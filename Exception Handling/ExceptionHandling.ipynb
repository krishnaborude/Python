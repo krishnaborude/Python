{
 "cells": [
  {
   "cell_type": "code",
   "execution_count": 1,
   "id": "3244200a",
   "metadata": {},
   "outputs": [
    {
     "name": "stdout",
     "output_type": "stream",
     "text": [
      "File not found\n"
     ]
    }
   ],
   "source": [
    "try:\n",
    "    f = open(\"test.txt\", \"r\")\n",
    "    print(f.read())\n",
    "except:\n",
    "    print(\"File not found\")"
   ]
  },
  {
   "cell_type": "code",
   "execution_count": 4,
   "id": "5ed6b40e",
   "metadata": {},
   "outputs": [
    {
     "name": "stdout",
     "output_type": "stream",
     "text": [
      "File not found\n"
     ]
    }
   ],
   "source": [
    "try:\n",
    "    m=5\n",
    "    f = open(\"test.txt\", \"r\")\n",
    "    print(f.read())\n",
    "    print(m)\n",
    "    print(m/0)\n",
    "except ZeroDivisionError:\n",
    "    print(\"Division by zero error\")\n",
    "except FileNotFoundError:\n",
    "    print(\"File not found\")\n",
    "except NameError:\n",
    "    print(\"Variable not defined\")"
   ]
  },
  {
   "cell_type": "code",
   "execution_count": null,
   "id": "44d3d5aa",
   "metadata": {},
   "outputs": [
    {
     "name": "stdout",
     "output_type": "stream",
     "text": [
      " File not found\n"
     ]
    }
   ],
   "source": [
    "try:\n",
    "    f = open(\"test.txt\", \"r\")\n",
    "except FileNotFoundError:\n",
    "    print(\"File not found\")\n",
    "except Exception:\n",
    "    print(\"An error occurred\")\n",
    "else:\n",
    "    print(f.read())"
   ]
  },
  {
   "cell_type": "code",
   "execution_count": 6,
   "id": "887f4f2b",
   "metadata": {},
   "outputs": [
    {
     "name": "stdout",
     "output_type": "stream",
     "text": [
      "File not found\n",
      "[Errno 2] No such file or directory: 'testfile.txt'\n",
      "Execution completed\n"
     ]
    }
   ],
   "source": [
    "try:\n",
    "    f = open(\"testfile.txt\", \"r\")\n",
    "except FileNotFoundError as e:\n",
    "    print(\"File not found\")\n",
    "    print(e)\n",
    "else:\n",
    "    print(f.read())\n",
    "finally:\n",
    "    print(\"Execution completed\")"
   ]
  },
  {
   "cell_type": "markdown",
   "id": "17822518",
   "metadata": {},
   "source": [
    "### raise Exception\n",
    "* in python programming, exception are raised when error occur at runtime\n",
    "* we can also manually raise an exception using the keyword \"raise\"\n",
    "* we can define what kind of error to be raised and the text to print to the user"
   ]
  },
  {
   "cell_type": "code",
   "execution_count": 12,
   "id": "77488d91",
   "metadata": {},
   "outputs": [
    {
     "name": "stdout",
     "output_type": "stream",
     "text": [
      "paise nahi hai tumhare pass\n"
     ]
    }
   ],
   "source": [
    "class Bank:\n",
    "    def __init__(self, balance):\n",
    "        self.balance = balance\n",
    "\n",
    "    def withdraw(self, amount):\n",
    "        if amount <= 0:\n",
    "            raise Exception(\"Amount must be positive\")\n",
    "        if amount > self.balance:\n",
    "            raise Exception(\"paise nahi hai tumhare pass\")\n",
    "        self.balance -= amount\n",
    "        return self.balance\n",
    "    \n",
    "b = Bank(1000)\n",
    "try:\n",
    "    print(b.withdraw(66720))\n",
    "except Exception as e:\n",
    "    print(e)\n",
    "else:\n",
    "    print(\"Withdrawal successful\")"
   ]
  },
  {
   "cell_type": "code",
   "execution_count": 14,
   "id": "d9aae13d",
   "metadata": {},
   "outputs": [
    {
     "ename": "Exception",
     "evalue": "paise nahi hai tumhare pass",
     "output_type": "error",
     "traceback": [
      "\u001b[1;31m---------------------------------------------------------------------------\u001b[0m",
      "\u001b[1;31mException\u001b[0m                                 Traceback (most recent call last)",
      "Cell \u001b[1;32mIn[14], line 18\u001b[0m\n\u001b[0;32m     16\u001b[0m b \u001b[38;5;241m=\u001b[39m Bank(\u001b[38;5;241m1000\u001b[39m)\n\u001b[0;32m     17\u001b[0m \u001b[38;5;28;01mtry\u001b[39;00m:\n\u001b[1;32m---> 18\u001b[0m     \u001b[38;5;28mprint\u001b[39m(\u001b[43mb\u001b[49m\u001b[38;5;241;43m.\u001b[39;49m\u001b[43mwithdraw\u001b[49m\u001b[43m(\u001b[49m\u001b[38;5;241;43m66720\u001b[39;49m\u001b[43m)\u001b[49m)\n\u001b[0;32m     19\u001b[0m \u001b[38;5;28;01mexcept\u001b[39;00m MyException \u001b[38;5;28;01mas\u001b[39;00m e:\n\u001b[0;32m     20\u001b[0m     \u001b[38;5;28mprint\u001b[39m(e)\n",
      "Cell \u001b[1;32mIn[14], line 12\u001b[0m, in \u001b[0;36mBank.withdraw\u001b[1;34m(self, amount)\u001b[0m\n\u001b[0;32m     10\u001b[0m     \u001b[38;5;28;01mraise\u001b[39;00m \u001b[38;5;167;01mException\u001b[39;00m(\u001b[38;5;124m\"\u001b[39m\u001b[38;5;124mAmount must be positive\u001b[39m\u001b[38;5;124m\"\u001b[39m)\n\u001b[0;32m     11\u001b[0m \u001b[38;5;28;01mif\u001b[39;00m amount \u001b[38;5;241m>\u001b[39m \u001b[38;5;28mself\u001b[39m\u001b[38;5;241m.\u001b[39mbalance:\n\u001b[1;32m---> 12\u001b[0m     \u001b[38;5;28;01mraise\u001b[39;00m \u001b[38;5;167;01mException\u001b[39;00m(\u001b[38;5;124m\"\u001b[39m\u001b[38;5;124mpaise nahi hai tumhare pass\u001b[39m\u001b[38;5;124m\"\u001b[39m)\n\u001b[0;32m     13\u001b[0m \u001b[38;5;28mself\u001b[39m\u001b[38;5;241m.\u001b[39mbalance \u001b[38;5;241m-\u001b[39m\u001b[38;5;241m=\u001b[39m amount\n\u001b[0;32m     14\u001b[0m \u001b[38;5;28;01mreturn\u001b[39;00m \u001b[38;5;28mself\u001b[39m\u001b[38;5;241m.\u001b[39mbalance\n",
      "\u001b[1;31mException\u001b[0m: paise nahi hai tumhare pass"
     ]
    }
   ],
   "source": [
    "class MyException(Exception):\n",
    "    def __init__(self, message):\n",
    "        print(message)\n",
    "class Bank:\n",
    "    def __init__(self, balance):\n",
    "        self.balance = balance\n",
    "\n",
    "    def withdraw(self, amount):\n",
    "        if amount <= 0:\n",
    "            raise Exception(\"Amount must be positive\")\n",
    "        if amount > self.balance:\n",
    "            raise Exception(\"paise nahi hai tumhare pass\")\n",
    "        self.balance -= amount\n",
    "        return self.balance\n",
    "    \n",
    "b = Bank(1000)\n",
    "try:\n",
    "    print(b.withdraw(66720))\n",
    "except MyException as e:\n",
    "    print(e)"
   ]
  },
  {
   "cell_type": "code",
   "execution_count": 17,
   "id": "ce247144",
   "metadata": {},
   "outputs": [
    {
     "name": "stdout",
     "output_type": "stream",
     "text": [
      "Unrecognized device\n",
      "Logging out...\n",
      "Execution completed\n"
     ]
    }
   ],
   "source": [
    "class SecurityError(Exception):\n",
    "    def __init__(self, message):\n",
    "        print(message)\n",
    "    def logout(self):\n",
    "        print(\"Logging out...\")\n",
    "class Google:\n",
    "    def __init__(self,name, email, password, device):\n",
    "        self.name = name\n",
    "        self.email = email\n",
    "        self.password = password\n",
    "        self.device = device\n",
    "        \n",
    "    def login(self, email, password, device):\n",
    "        if device != self.device:\n",
    "            raise SecurityError(\"Unrecognized device\")\n",
    "        if self.email == email or self.password == password:\n",
    "            print(\"Login successful\")\n",
    "        else:\n",
    "            print(\"Login failed\")\n",
    "\n",
    "obj = Google(\"krishna\", \"krishna@gmail.com\", \"12345\", \"android\")\n",
    "\n",
    "try:\n",
    "    obj.login(\"krishna@gmail.com\", \"12345\", \"ios\")\n",
    "except SecurityError as e:\n",
    "    e.logout()\n",
    "else:\n",
    "    print(\"Welcome to Google\")\n",
    "finally:\n",
    "    print(\"Execution completed\")"
   ]
  },
  {
   "cell_type": "markdown",
   "id": "097d94e2",
   "metadata": {},
   "source": [
    "# Scope"
   ]
  },
  {
   "cell_type": "markdown",
   "id": "2a271d27",
   "metadata": {},
   "source": [
    "A Namespace is a space that holds names(identifiers). Programmatically speaking, it’s a dictionary object where keys are identifiers(keys) and values are objects (values).\n",
    "There are four types of namespaces in Python:\n",
    "1. Built-in namespace\n",
    "2. Global namespace\n",
    "3. Enclosing namespace\n",
    "4. Local namespace"
   ]
  },
  {
   "cell_type": "markdown",
   "id": "10920ed2",
   "metadata": {},
   "source": [
    "scope and LEGB rule\n",
    "\n",
    "A scope is a textual region of your code where a variable has meaning.\n",
    "\n",
    "LEGB stands for Local, Enclosing, Global, Built-in.\n",
    "\n",
    "The interpreter searches the scopes in this order when looking up an identifier.\n",
    "\n",
    "Local: The current function.\n",
    "\n",
    "Enclosing: Any enclosing functions (functions inside other functions).\n",
    "\n",
    "Global: The module level.\n",
    "\n",
    "Built-in: Python’s built-ins like print()."
   ]
  },
  {
   "cell_type": "code",
   "execution_count": 1,
   "id": "93dcfc34",
   "metadata": {},
   "outputs": [
    {
     "name": "stdout",
     "output_type": "stream",
     "text": [
      "Inside func, x: 10\n",
      "Inside func, y: 5\n"
     ]
    }
   ],
   "source": [
    "# lacal and global namespace\n",
    "x = 10  # Global variable\n",
    "def func():\n",
    "    y = 5  # Local variable\n",
    "    print(\"Inside func, x:\", x)  # Accessing global variable\n",
    "    print(\"Inside func, y:\", y)  # Accessing local variable\n",
    "func()"
   ]
  },
  {
   "cell_type": "code",
   "execution_count": 14,
   "id": "efabb0ad",
   "metadata": {},
   "outputs": [
    {
     "name": "stdout",
     "output_type": "stream",
     "text": [
      "3\n"
     ]
    }
   ],
   "source": [
    "a = 2\n",
    "def temp():\n",
    "    global a\n",
    "    a += 1\n",
    "    print(a)\n",
    "    \n",
    "temp()"
   ]
  },
  {
   "cell_type": "code",
   "execution_count": 5,
   "id": "d4f7a6ff",
   "metadata": {},
   "outputs": [
    {
     "name": "stdout",
     "output_type": "stream",
     "text": [
      "['ArithmeticError', 'AssertionError', 'AttributeError', 'BaseException', 'BlockingIOError', 'BrokenPipeError', 'BufferError', 'BytesWarning', 'ChildProcessError', 'ConnectionAbortedError', 'ConnectionError', 'ConnectionRefusedError', 'ConnectionResetError', 'DeprecationWarning', 'EOFError', 'Ellipsis', 'EncodingWarning', 'EnvironmentError', 'Exception', 'False', 'FileExistsError', 'FileNotFoundError', 'FloatingPointError', 'FutureWarning', 'GeneratorExit', 'IOError', 'ImportError', 'ImportWarning', 'IndentationError', 'IndexError', 'InterruptedError', 'IsADirectoryError', 'KeyError', 'KeyboardInterrupt', 'LookupError', 'MemoryError', 'ModuleNotFoundError', 'NameError', 'None', 'NotADirectoryError', 'NotImplemented', 'NotImplementedError', 'OSError', 'OverflowError', 'PendingDeprecationWarning', 'PermissionError', 'ProcessLookupError', 'RecursionError', 'ReferenceError', 'ResourceWarning', 'RuntimeError', 'RuntimeWarning', 'StopAsyncIteration', 'StopIteration', 'SyntaxError', 'SyntaxWarning', 'SystemError', 'SystemExit', 'TabError', 'TimeoutError', 'True', 'TypeError', 'UnboundLocalError', 'UnicodeDecodeError', 'UnicodeEncodeError', 'UnicodeError', 'UnicodeTranslateError', 'UnicodeWarning', 'UserWarning', 'ValueError', 'Warning', 'WindowsError', 'ZeroDivisionError', '__IPYTHON__', '__build_class__', '__debug__', '__doc__', '__import__', '__loader__', '__name__', '__package__', '__spec__', 'abs', 'aiter', 'all', 'anext', 'any', 'ascii', 'bin', 'bool', 'breakpoint', 'bytearray', 'bytes', 'callable', 'chr', 'classmethod', 'compile', 'complex', 'copyright', 'credits', 'delattr', 'dict', 'dir', 'display', 'divmod', 'enumerate', 'eval', 'exec', 'execfile', 'filter', 'float', 'format', 'frozenset', 'get_ipython', 'getattr', 'globals', 'hasattr', 'hash', 'help', 'hex', 'id', 'input', 'int', 'isinstance', 'issubclass', 'iter', 'len', 'license', 'list', 'locals', 'map', 'max', 'memoryview', 'min', 'next', 'object', 'oct', 'open', 'ord', 'pow', 'print', 'property', 'range', 'repr', 'reversed', 'round', 'runfile', 'set', 'setattr', 'slice', 'sorted', 'staticmethod', 'str', 'sum', 'super', 'tuple', 'type', 'vars', 'zip']\n"
     ]
    }
   ],
   "source": [
    "# built-in scope\n",
    "import builtins\n",
    "print(dir(builtins))"
   ]
  },
  {
   "cell_type": "code",
   "execution_count": null,
   "id": "bcf4133b",
   "metadata": {},
   "outputs": [
    {
     "name": "stdout",
     "output_type": "stream",
     "text": [
      "This is a custom max function\n"
     ]
    }
   ],
   "source": [
    "# renaming built-in functions\n",
    "list = [1, 2, 3]\n",
    "def max():\n",
    "    print(\"This is a custom max function\")\n",
    "max()\n"
   ]
  },
  {
   "cell_type": "code",
   "execution_count": 12,
   "id": "bf3ce263",
   "metadata": {},
   "outputs": [
    {
     "name": "stdout",
     "output_type": "stream",
     "text": [
      "1\n",
      "global print\n"
     ]
    }
   ],
   "source": [
    "# enclosing scope\n",
    "def outer():\n",
    "    def inner():\n",
    "        print(a)\n",
    "    inner()\n",
    "    return \"outer function\"\n",
    "outer()\n",
    "a = 1\n",
    "print(\"global print\")"
   ]
  },
  {
   "cell_type": "code",
   "execution_count": 13,
   "id": "1c6d36c9",
   "metadata": {},
   "outputs": [
    {
     "name": "stdout",
     "output_type": "stream",
     "text": [
      "inner function 2\n",
      "outer function 2\n",
      "global print 1\n"
     ]
    }
   ],
   "source": [
    "# nonlocal keyword\n",
    "def outer():\n",
    "    x = 1\n",
    "    def inner():\n",
    "        nonlocal x\n",
    "        x += 1\n",
    "        print(\"inner function\", x)\n",
    "    inner()\n",
    "    print(\"outer function\", x)\n",
    "outer()\n",
    "a = 1\n",
    "print(\"global print\", a)"
   ]
  },
  {
   "cell_type": "code",
   "execution_count": null,
   "id": "24e4ef58",
   "metadata": {},
   "outputs": [],
   "source": []
  }
 ],
 "metadata": {
  "kernelspec": {
   "display_name": "Python 3",
   "language": "python",
   "name": "python3"
  },
  "language_info": {
   "codemirror_mode": {
    "name": "ipython",
    "version": 3
   },
   "file_extension": ".py",
   "mimetype": "text/x-python",
   "name": "python",
   "nbconvert_exporter": "python",
   "pygments_lexer": "ipython3",
   "version": "3.10.11"
  }
 },
 "nbformat": 4,
 "nbformat_minor": 5
}
