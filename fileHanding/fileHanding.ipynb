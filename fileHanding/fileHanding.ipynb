{
 "cells": [
  {
   "cell_type": "markdown",
   "id": "dc186982",
   "metadata": {},
   "source": [
    "Some theory \n",
    "types of data used for I/o\n",
    "* text = '1234567890' as a sequence of unicode characters\n",
    "* bynary = 12345 as a sequence of bytes of its binary equivalent\n",
    "\n",
    "Hence there are 2 file types to deal with in python\n",
    "* Text files - .txt, .py etc.\n",
    "* Binary files - images, videos, audio and other media formats.\n",
    "\n",
    "\n",
    "How file I/O is done in most programing language \n",
    "* Open the file\n",
    "* Read or write to it\n",
    "* Close the file\n"
   ]
  },
  {
   "cell_type": "code",
   "execution_count": 4,
   "id": "69ceea0d",
   "metadata": {},
   "outputs": [],
   "source": [
    "# case 1 - if the file is not present\n",
    "f = open('test.txt','w')\n",
    "f.write('Hello world')\n",
    "f.close()"
   ]
  },
  {
   "cell_type": "code",
   "execution_count": 5,
   "id": "8344446d",
   "metadata": {},
   "outputs": [],
   "source": [
    "# write multiple lines to a file\n",
    "f = open('test.txt', 'w')\n",
    "f.write('Hello world\\n')\n",
    "f.write('This is our new text file\\n')\n",
    "f.close()"
   ]
  },
  {
   "cell_type": "code",
   "execution_count": 6,
   "id": "6014f11b",
   "metadata": {},
   "outputs": [],
   "source": [
    "# case 2 - if the file is present\n",
    "f = open('test.txt', 'a')\n",
    "f.write('krishna borude')\n",
    "f.close()"
   ]
  },
  {
   "cell_type": "code",
   "execution_count": 7,
   "id": "582c6cf9",
   "metadata": {},
   "outputs": [],
   "source": [
    "#how exactly open( \"filename\", \"mode\") works?\n",
    "\n",
    "f = open(\"test.txt\",\"r\")     #open file in read mode\n",
    "f.read()                      #read the file\n",
    "f.close()                     #close the file"
   ]
  },
  {
   "cell_type": "code",
   "execution_count": 8,
   "id": "b84a0af2",
   "metadata": {},
   "outputs": [],
   "source": [
    "# problem with w mode \n",
    "# introducing append mode\n",
    "f = open(\"test.txt\", \"a\")     #open file in append mode\n",
    "f.write(\"hello krishna\")\n",
    "f.close()                     #close the file"
   ]
  },
  {
   "cell_type": "code",
   "execution_count": 13,
   "id": "0d453213",
   "metadata": {},
   "outputs": [],
   "source": [
    "# write lines\n",
    "L = [\"This is Delhi \\n\", \"This is Paris \\n\", \"This is London\"]\n",
    "f = open(\"./txt files/test.txt\", \"w\")\n",
    "f.writelines(L)\n",
    "f.close()"
   ]
  },
  {
   "cell_type": "code",
   "execution_count": 15,
   "id": "a904aca8",
   "metadata": {},
   "outputs": [
    {
     "name": "stdout",
     "output_type": "stream",
     "text": [
      "This is Delhi \n",
      "This is Paris \n",
      "This is London\n"
     ]
    }
   ],
   "source": [
    "# reading from files\n",
    "# -> using read() method\n",
    "f = open(\"./txt files/test.txt\", \"r\")\n",
    "s = f.read()\n",
    "print(s)\n",
    "f.close()"
   ]
  },
  {
   "cell_type": "code",
   "execution_count": null,
   "id": "34a9c957",
   "metadata": {},
   "outputs": [
    {
     "name": "stdout",
     "output_type": "stream",
     "text": [
      "This \n"
     ]
    }
   ],
   "source": [
    "# reading upto n caracters from a file\n",
    "f= open(\"./txt files/test.txt\", \"r\")\n",
    "print(f.read(5))\n",
    "f.close()"
   ]
  },
  {
   "cell_type": "code",
   "execution_count": 18,
   "id": "049f9b9d",
   "metadata": {},
   "outputs": [
    {
     "name": "stdout",
     "output_type": "stream",
     "text": [
      "This is Delhi \n",
      "\n",
      "This is Paris \n",
      "\n"
     ]
    }
   ],
   "source": [
    "# readline() method\n",
    "f=open(\"./txt files/test.txt\",\"r\")\n",
    "print(f.readline())\n",
    "print(f.readline())\n",
    "f.close()"
   ]
  },
  {
   "cell_type": "code",
   "execution_count": null,
   "id": "4211a748",
   "metadata": {},
   "outputs": [
    {
     "name": "stdout",
     "output_type": "stream",
     "text": [
      "This is Delhi \n",
      "This is Paris \n",
      "This is London"
     ]
    }
   ],
   "source": [
    "# reading entire using readlines() method\n",
    "f = open(\"./txt files/test.txt\", \"r\")\n",
    "while True:\n",
    "    line = f.readline()\n",
    "    if line == \"\":\n",
    "        break\n",
    "    print(line, end=\"\")\n",
    "f.close()"
   ]
  },
  {
   "cell_type": "markdown",
   "id": "8cf54aa2",
   "metadata": {},
   "source": [
    "Using context Manager (with):\n",
    "* It'sa good idea to close a file after usage as it will free up the resources.\n",
    "* if we dont close it, garbage collector will do that for us. but it is not recommended.\n",
    "* with keyword closes the file as soon as the usage is over"
   ]
  },
  {
   "cell_type": "code",
   "execution_count": 26,
   "id": "dee49ffc",
   "metadata": {},
   "outputs": [
    {
     "name": "stdout",
     "output_type": "stream",
     "text": [
      "This is De\n",
      "lhi \n",
      "This \n"
     ]
    }
   ],
   "source": [
    "with open(\"./txt files/test.txt\", \"r\") as f:\n",
    "    print(f.read(10))\n",
    "    print(f.read(10))   "
   ]
  },
  {
   "cell_type": "code",
   "execution_count": null,
   "id": "078d5e21",
   "metadata": {},
   "outputs": [],
   "source": [
    "# benefit? -> to load big data in chunks\n",
    "big_L= [\"hello world\" for i in range(10000)]\n",
    "\n",
    "with open(\"./txt files/big.txt\", \"w\") as f:\n",
    "    f.writelines(big_L) \n"
   ]
  },
  {
   "cell_type": "code",
   "execution_count": null,
   "id": "c12f0108",
   "metadata": {},
   "outputs": [
    {
     "name": "stdout",
     "output_type": "stream",
     "text": [
      "hello world ***hello world ***hello world ***hello world ***hello world ***hello world ***hello world ***hello world ***hello world ***hello world ***hello world ***hello world ***hello world ***hello world ***hello world ***hello world ***hello world ***hello world ***hello world ***hello world ***hello world ***hello world ***hello world ***hello world ***hello world ***hello world ***hello world ***hello world ***hello world ***hello world ***hello world ***hello world ***hello world ***hello world ***hello world ***hello world ***hello world ***hello world ***hello world ***hello world ***hello world ***hello world ***hello world ***hello world ***hello world ***hello world ***hello world ***hello world ***hello world ***hello world ***hello world ***hello world ***hello world ***hello world ***hello world ***hello world ***hello world ***hello world ***hello world ***hello world ***hello world ***hello world ***hello world ***hello world ***hello world ***hello world ***hello world ***hello world ***hello world ***hello world ***hello world ***hello world ***hello world ***hello world ***hello world ***hello world ***hello world ***hello world ***hello world ***hello world ***hello world ***hello world ***hello world ***hello world ***hello world ***hello world ***hello world ***hello world ***hello world ***hello world ***hello world ***hello world ***hello world ***hello world ***hello world ***hello world ***hello world ***hello world ***hello world ***hello world ***hello world ***hello world ***hello world ***hello world ***hello world ***hello world ***hello world ***hello world ***hello world ***hello world ***hello world ***hello world ***hello world ***hello world ***hello world ***hello world ***hello world ***hello world ***hello world ***hello world ***hello world ***hello world ***hello world ***hello world ***hello world ***hello world ***hello world ***hello world ***hello world ***hello world ***hello world ***hello world ***hello world ***hello world ***hello world ***hello world ***hello world ***hello world ***hello world ***hello world ***hello world ***hello world ***hello world ***hello world ***hello world ***hello world ***hello world ***hello world ***hello world ***hello world ***hello world ***hello world ***hello world ***hello world ***hello world ***hello world ***hello world ***hello world ***hello world ***hello world ***hello world ***hello world ***hello world ***hello world ***hello world ***hello world ***hello world ***hello world ***hello world ***hello world ***hello world ***hello world ***hello world ***hello world ***hello world ***hello world ***hello world ***hello world ***hello world ***hello world ***hello world ***hello world ***hello world ***hello world ***hello world ***hello world ***hello world ***hello world ***hello world ***hello world ***hello world ***hello world ***hello world ***hello world ***hello world ***hello world ***hello world ***hello world ***hello world ***hello world ***hello world ***hello world ***hello world ***hello world ***hello world ***hello world ***hello world ***hello world ***hello world ***hello world ***hello world ***hello world ***hello world ***hello world ***hello world ***hello world ***hello world ***hello world ***hello world ***hello world ***hello world ***hello world ***hello world ***hello world ***hello world ***hello world ***hello world ***hello world ***hello world ***hello world ***hello world ***hello world ***hello world ***hello world ***hello world ***hello world ***hello world ***hello world ***hello world ***hello world ***hello world ***hello world ***hello world ***hello world ***hello world ***hello world ***hello world ***hello world ***hello world ***hello world ***hello world ***hello world ***hello world ***hello world ***hello world ***hello world ***hello world ***hello world ***hello world ***hello world ***hello world ***hello world ***hello world ***hello world ***hello world ***hello world ***hello world ***hello world ***hello world ***hello world ***hello world ***hello world ***hello world ***hello world ***hello world ***hello world ***hello world ***hello world ***hello world ***hello world ***hello world ***hello world ***hello world ***hello world ***hello world ***hello world ***hello world ***hello world ***hello world ***hello world ***hello world ***hello world ***hello world ***hello world ***hello world ***hello world ***hello world ***hello world ***hello world ***hello world ***hello world ***hello world ***hello world ***hello world ***hello world ***hello world ***hello world ***hello world ***hello world ***hello world ***hello world ***hello world ***hello world ***hello world ***hello world ***hello world ***hello world ***hello world ***hello world ***hello world ***hello world ***hello world ***hello world ***hello world ***hello world ***hello world ***hello world ***hello world ***hello world ***hello world ***hello world ***hello world ***hello world ***hello world ***hello world ***hello world ***hello world ***hello world ***hello world ***hello world ***hello world ***hello world ***hello world ***hello world ***hello world ***hello world ***hello world ***hello world ***hello world ***hello world ***hello world ***hello world ***hello world ***hello world ***hello world ***hello world ***hello world ***hello world ***hello world ***hello world ***hello world ***hello world ***hello world ***hello world ***hello world ***hello world ***hello world ***hello world ***hello world ***hello world ***hello world ***hello world ***hello world ***hello world ***hello world ***hello world ***hello world ***hello world ***hello world ***hello world ***hello world ***hello world ***hello world ***hello world ***hello world ***hello world ***hello world ***hello world ***hello world ***hello world ***hello world ***hello world ***hello world ***hello world ***hello world ***hello world ***hello world ***hello world ***hello world ***hello world ***hello world ***hello world ***hello world ***hello world ***hello world ***hello world ***hello world ***hello world ***hello world ***hello world ***hello world ***hello world ***hello world ***hello world ***hello world ***hello world ***hello world ***hello world ***hello world ***hello world ***hello world ***hello world ***hello world ***hello world ***hello world ***hello world ***hello world ***hello world ***hello world ***hello world ***hello world ***hello world ***hello world ***hello world ***hello world ***hello world ***hello world ***hello world ***hello world ***hello world ***hello world ***hello world ***hello world ***hello world ***hello world ***hello world ***hello world ***hello world ***hello world ***hello world ***hello world ***hello world ***hello world ***hello world ***hello world ***hello world ***hello world ***hello world ***hello world ***hello world ***hello world ***hello world ***hello world ***hello world ***hello world ***hello world ***hello world ***hello world ***hello world ***hello world ***hello world ***hello world ***hello world ***hello world ***hello world ***hello world ***hello world ***hello world ***hello world ***hello world ***hello world ***hello world ***hello world ***hello world ***hello world ***hello world ***hello world ***hello world ***hello world ***hello world ***hello world ***hello world ***hello world ***hello world ***hello world ***hello world ***hello world ***hello world ***hello world ***hello world ***hello world ***hello world ***hello world ***hello world ***hello world ***hello world ***hello world ***hello world ***hello world ***hello world ***hello world ***hello world ***hello world ***hello world ***hello world ***hello world ***hello world ***hello world ***hello world ***hello world ***hello world ***hello world ***hello world ***hello world ***hello world ***hello world ***hello world ***hello world ***hello world ***hello world ***hello world ***hello world ***hello world ***hello world ***hello world ***hello world ***hello world ***hello world ***hello world ***hello world ***hello world ***hello world ***hello world ***hello world ***hello world ***hello world ***hello world ***hello world ***hello world ***hello world ***hello world ***hello world ***hello world ***hello world ***hello world ***hello world ***hello world ***hello world ***hello world ***hello world ***hello world ***hello world ***hello world ***hello world ***hello world ***hello world ***hello world ***hello world ***hello world ***hello world ***hello world ***hello world ***hello world ***hello world ***hello world ***hello world ***hello world ***hello world ***hello world ***hello world ***hello world ***hello world ***hello world ***hello world ***hello world ***hello world ***hello world ***hello world ***hello world ***hello world ***hello world ***hello world ***hello world ***hello world ***hello world ***hello world ***hello world ***hello world ***hello world ***hello world ***hello world ***hello world ***hello world ***hello world ***hello world ***hello world ***hello world ***hello world ***hello world ***hello world ***hello world ***hello world ***hello world ***hello world ***hello world ***hello world ***hello world ***hello world ***hello world ***hello world ***hello world ***hello world ***hello world ***hello world ***hello world ***hello world ***hello world ***hello world ***hello world ***hello world ***hello world ***hello world ***hello world ***hello world ***hello world ***hello world ***hello world ***hello world ***hello world ***hello world ***hello world ***hello world ***hello world ***hello world ***hello world ***hello world ***hello world ***hello world ***hello world ***hello world ***hello world ***hello world ***hello world ***hello world ***hello world ***hello world ***hello world ***hello world ***hello world ***hello world ***hello world ***hello world ***hello world ***hello world ***hello world ***hello world ***hello world ***hello world ***hello world ***hello world ***hello world ***hello world ***hello world ***hello world ***hello world ***hello world ***hello world ***hello world ***hello world ***hello world ***hello world ***hello world ***hello world ***hello world ***hello world ***hello world ***hello world ***hello world ***hello world ***hello world ***hello world ***hello world ***hello world ***hello world ***hello world ***hello world ***hello world ***hello world ***hello world ***hello world ***hello world ***hello world ***hello world ***hello world ***hello world ***hello world ***hello world ***hello world ***hello world ***hello world ***hello world ***hello world ***hello world ***hello world ***hello world ***hello world ***hello world ***hello world ***hello world ***hello world ***hello world ***hello world ***hello world ***hello world ***hello world ***hello world ***hello world ***hello world ***hello world ***hello world ***hello world ***hello world ***hello world ***hello world ***hello world ***hello world ***hello world ***hello world ***hello world ***hello world ***hello world ***hello world ***hello world ***hello world ***hello world ***hello world ***hello world ***hello world ***hello world ***hello world ***hello world ***hello world ***hello world ***hello world ***hello world ***hello world ***hello world ***hello world ***hello world ***hello world ***hello world ***hello world ***hello world ***hello world ***hello world ***hello world ***hello world ***hello world ***hello world ***hello world ***hello world ***hello world ***hello world ***hello world ***hello world ***hello world ***hello world ***hello world ***hello world ***hello world ***hello world ***hello world ***hello world ***hello world ***hello world ***hello world ***hello world ***hello world ***hello world ***hello world ***hello world ***hello world ***hello world ***hello world ***hello world ***hello world ***hello world ***hello world ***hello world ***hello world ***hello world ***hello world ***hello world ***hello world ***hello world ***hello world ***hello world ***hello world ***hello world ***hello world ***hello world ***hello world ***hello world ***hello world ***hello world ***hello world ***hello world ***hello world ***hello world ***hello world ***hello world ***hello world ***hello world ***hello world ***hello world ***hello world ***hello world ***hello world ***hello world ***hello world ***hello world ***hello world ***hello world ***hello world ***hello world ***hello world ***hello world ***hello world ***hello world ***hello world ***hello world ***hello world ***hello world ***hello world ***hello world ***hello world ***hello world ***hello world ***hello world ***hello world ***hello world ***hello world ***hello world ***hello world ***hello world ***hello world ***hello world ***hello world ***hello world ***hello world ***hello world ***hello world ***hello world ***hello world ***hello world ***hello world ***hello world ***hello world ***hello world ***hello world ***hello world ***hello world ***hello world ***hello world ***hello world ***hello world ***hello world ***hello world ***hello world ***hello world ***hello world ***hello world ***hello world ***hello world ***hello world ***hello world ***hello world ***hello world ***hello world ***hello world ***hello world ***hello world ***hello world ***hello world ***hello world ***hello world ***hello world ***hello world ***hello world ***hello world ***hello world ***hello world ***hello world ***hello world ***hello world ***hello world ***hello world ***hello world ***hello world ***hello world ***hello world ***hello world ***hello world ***hello world ***hello world ***hello world ***hello world ***hello world ***hello world ***hello world ***hello world ***hello world ***hello world ***hello world ***hello world ***hello world ***hello world ***hello world ***hello world ***hello world ***hello world ***hello world ***hello world ***hello world ***hello world ***hello world ***hello world ***hello world ***hello world ***hello world ***hello world ***hello world ***hello world ***hello world ***hello world ***hello world ***hello world ***hello world ***hello world ***hello world ***hello world ***hello world ***hello world ***hello world ***hello world ***hello world ***hello world ***hello world ***hello world ***hello world ***hello world ***hello world ***hello world ***hello world ***hello world ***hello world ***hello world ***hello world ***hello world ***hello world ***hello world ***hello world ***hello world ***hello world ***hello world ***hello world ***hello world ***hello world ***hello world ***hello world ***hello world ***hello world ***hello world ***hello world ***hello world ***hello world ***hello world ***hello world ***hello world ***hello world ***hello world ***hello world ***hello world ***hello world ***hello world ***hello world ***hello world ***hello world ***hello world ***hello world ***hello world ***hello world ***hello world ***hello world ***hello world ***hello world ***hello world ***hello world ***hello world ***hello world ***hello world ***hello world ***hello world ***hello world ***hello world ***hello world ***hello world ***hello world ***hello world ***hello world ***hello world ***hello world ***hello world ***hello world ***hello world ***hello world ***hello world ***hello world ***hello world ***hello world ***hello world ***hello world ***hello world ***hello world ***hello world ***hello world ***hello world ***hello world ***hello world ***hello world ***hello world ***hello world ***hello world ***hello world ***hello world ***hello world ***hello world ***hello world ***hello world ***hello world ***hello world ***hello world ***hello world ***hello world ***hello world ***hello world ***hello world ***hello world ***hello world ***hello world ***hello world ***hello world ***hello world ***hello world ***hello world ***hello world ***hello world ***hello world ***hello world ***hello world ***hello world ***hello world ***hello world ***hello world ***hello world ***hello world ***hello world ***hello world ***hello world ***hello world ***hello world ***hello world ***hello world ***hello world ***hello world ***hello world ***hello world ***hello world ***hello world ***hello world ***hello world ***hello world ***hello world ***hello world ***hello world ***hello world ***hello world ***hello world ***hello world ***hello world ***hello world ***hello world ***hello world ***hello world ***hello world ***hello world ***hello world ***hello world ***hello world ***hello world ***hello world ***hello world ***hello world ***hello world ***hello world ***hello world ***hello world ***hello world ***hello world ***hello world ***hello world ***hello world ***hello world ***hello world ***hello world ***hello world ***hello world ***hello world ***hello world ***hello world ***hello world ***hello world ***hello world ***hello world ***hello world ***hello world ***hello world ***hello world ***hello world ***hello world ***hello world ***hello world ***hello world ***hello world ***hello world ***hello world ***hello world ***hello world ***hello world ***hello world ***hello world ***hello world ***hello world ***hello world ***hello world ***hello world ***hello world ***hello world ***hello world ***hello world ***hello world ***hello world ***hello world ***hello world ***hello world ***hello world ***hello world ***hello world ***hello world ***hello world ***hello world ***hello world ***hello world ***hello world ***hello world ***hello world ***hello world ***hello world ***hello world ***hello world ***hello world ***hello world ***hello world ***hello world ***hello world ***hello world ***hello world ***hello world ***hello world ***hello world ***hello world ***hello world ***hello world ***hello world ***hello world ***hello world ***hello world ***hello world ***hello world ***hello world ***hello world ***hello world ***hello world ***hello world ***hello world ***hello world ***hello world ***hello world ***hello world ***hello world ***hello world ***hello world ***hello world ***hello world ***hello world ***hello world ***hello world ***hello world ***hello world ***hello world ***hello world ***hello world ***hello world ***hello world ***hello world ***hello world ***hello world ***hello world ***hello world ***hello world ***hello world ***hello world ***hello world ***hello world ***hello world ***hello world ***hello world ***hello world ***hello world ***hello world ***hello world ***hello world ***hello world ***hello world ***hello world ***hello world ***hello world ***hello world ***hello world ***hello world ***hello world ***hello world ***hello world ***hello world ***hello world ***hello world ***hello world ***hello world ***hello world ***hello world ***hello world ***hello world ***hello world ***hello world ***hello world ***hello world ***hello world ***hello world ***hello world ***hello world ***hello world ***hello world ***hello world ***hello world ***hello world ***hello world ***hello world ***hello world ***hello world ***hello world ***hello world ***hello world ***hello world ***hello world ***hello world ***hello world ***hello world ***hello world ***hello world ***hello world ***hello world ***hello world ***hello world ***hello world ***hello world ***hello world ***hello world ***hello world ***hello world ***hello world ***hello world ***hello world ***hello world ***hello world ***hello world ***hello world ***hello world ***hello world ***hello world ***hello world ***hello world ***hello world ***hello world ***hello world ***hello world ***hello world ***hello world ***hello world ***hello world ***hello world ***hello world ***hello world ***hello world ***hello world ***hello world ***hello world ***hello world ***hello world ***hello world ***hello world ***hello world ***hello world ***hello world ***hello world ***hello world ***hello world ***hello world ***hello world ***hello world ***hello world ***hello world ***hello world ***hello world ***hello world ***hello world ***hello world ***hello world ***hello world ***hello world ***hello world ***hello world ***hello world ***hello world ***hello world ***hello world ***hello world ***hello world ***hello world ***hello world ***hello world ***hello world ***hello world ***hello world ***hello world ***hello world ***hello world ***hello world ***hello world ***hello world ***hello world ***hello world ***hello world ***hello world ***hello world ***hello world ***hello world ***hello world ***hello world ***hello world ***hello world ***hello world ***hello world ***hello world ***hello world ***hello world ***hello world ***hello world ***hello world ***hello world ***hello world ***hello world ***hello world ***hello world ***hello world ***hello world ***hello world ***hello world ***hello world ***hello world ***hello world ***hello world ***hello world ***hello world ***hello world ***hello world ***hello world ***hello world ***hello world ***hello world ***hello world ***hello world ***hello world ***hello world ***hello world ***hello world ***hello world ***hello world ***hello world ***hello world ***hello world ***hello world ***hello world ***hello world ***hello world ***hello world ***hello world ***hello world ***hello world ***hello world ***hello world ***hello world ***hello world ***hello world ***hello world ***hello world ***hello world ***hello world ***hello world ***hello world ***hello world ***hello world ***hello world ***hello world ***hello world ***hello world ***hello world ***hello world ***hello world ***hello world ***hello world ***hello world ***hello world ***hello world ***hello world ***hello world ***hello world ***hello world ***hello world ***hello world ***hello world ***hello world ***hello world ***hello world ***hello world ***hello world ***hello world ***hello world ***hello world ***hello world ***hello world ***hello world ***hello world ***hello world ***hello world ***hello world ***hello world ***hello world ***hello world ***hello world ***hello world ***hello world ***hello world ***hello world ***hello world ***hello world ***hello world ***hello world ***hello world ***hello world ***hello world ***hello world ***hello world ***hello world ***hello world ***hello world ***hello world ***hello world ***hello world ***hello world ***hello world ***hello world ***hello world ***hello world ***hello world ***hello world ***hello world ***hello world ***hello world ***hello world ***hello world ***hello world ***hello world ***hello world ***hello world ***hello world ***hello world ***hello world ***hello world ***hello world ***hello world ***hello world ***hello world ***hello world ***hello world ***hello world ***hello world ***hello world ***hello world ***hello world ***hello world ***hello world ***hello world ***hello world ***hello world ***hello world ***hello world ***hello world ***hello world ***hello world ***hello world ***hello world ***hello world ***hello world ***hello world ***hello world ***hello world ***hello world ***hello world ***hello world ***hello world ***hello world ***hello world ***hello world ***hello world ***hello world ***hello world ***hello world ***hello world ***hello world ***hello world ***hello world ***hello world ***hello world ***hello world ***hello world ***hello world ***hello world ***hello world ***hello world ***hello world ***hello world ***hello world ***hello world ***hello world ***hello world ***hello world ***hello world ***hello world ***hello world ***hello world ***hello world ***hello world ***hello world ***hello world ***hello world ***hello world ***hello world ***hello world ***hello world ***hello world ***hello world ***hello world ***hello world ***hello world ***hello world ***hello world ***hello world ***hello world ***hello world ***hello world ***hello world ***hello world ***hello world ***hello world ***hello world ***hello world ***hello world ***hello world ***hello world ***hello world ***hello world ***hello world ***hello world ***hello world ***hello world ***hello world ***hello world ***hello world ***hello world ***hello world ***hello world ***hello world ***hello world ***hello world ***hello world ***hello world ***hello world ***hello world ***hello world ***hello world ***hello world ***hello world ***hello world ***hello world ***hello world ***hello world ***hello world ***hello world ***hello world ***hello world ***hello world ***hello world ***hello world ***hello world ***hello world ***hello world ***hello world ***hello world ***hello world ***hello world ***hello world ***hello world ***hello world ***hello world ***hello world ***hello world ***hello world ***hello world ***hello world ***hello world ***hello world ***hello world ***hello world ***hello world ***hello world ***hello world ***hello world ***hello world ***hello world ***hello world ***hello world ***hello world ***hello world ***hello world ***hello world ***hello world ***hello world ***hello world ***hello world ***hello world ***hello world ***hello world ***hello world ***hello world ***hello world ***hello world ***hello world ***hello world ***hello world ***hello world ***hello world ***hello world ***hello world ***hello world ***hello world ***hello world ***hello world ***hello world ***hello world ***hello world ***hello world ***hello world ***hello world ***hello world ***hello world ***hello world ***hello world ***hello world ***hello world ***hello world ***hello world ***hello world ***hello world ***hello world ***hello world ***hello world ***hello world ***hello world ***hello world ***hello world ***hello world ***hello world ***hello world ***hello world ***hello world ***hello world ***hello world ***hello world ***hello world ***hello world ***hello world ***hello world ***hello world ***hello world ***hello world ***hello world ***hello world ***hello world ***hello world ***hello world ***hello world ***hello world ***hello world ***hello world ***hello world ***hello world ***hello world ***hello world ***hello world ***hello world ***hello world ***hello world ***hello world ***hello world ***hello world ***hello world ***hello world ***hello world ***hello world ***hello world ***hello world ***hello world ***hello world ***hello world ***hello world ***hello world ***hello world ***hello world ***hello world ***hello world ***hello world ***hello world ***hello world ***hello world ***hello world ***hello world ***hello world ***hello world ***hello world ***hello world ***hello world ***hello world ***hello world ***hello world ***hello world ***hello world ***hello world ***hello world ***hello world ***hello world ***hello world ***hello world ***hello world ***hello world ***hello world ***hello world ***hello world ***hello world ***hello world ***hello world ***hello world ***hello world ***hello world ***hello world ***hello world ***hello world ***hello world ***hello world ***hello world ***hello world ***hello world ***hello world ***hello world ***hello world ***hello world ***hello world ***hello world ***hello world ***hello world ***hello world ***hello world ***hello world ***hello world ***hello world ***hello world ***hello world ***hello world ***hello world ***hello world ***hello world ***hello world ***hello world ***hello world ***hello world ***hello world ***hello world ***hello world ***hello world ***hello world ***hello world ***hello world ***hello world ***hello world ***hello world ***hello world ***hello world ***hello world ***hello world ***hello world ***hello world ***hello world ***hello world ***hello world ***hello world ***hello world ***hello world ***hello world ***hello world ***hello world ***hello world ***hello world ***hello world ***hello world ***hello world ***hello world ***hello world ***hello world ***hello world ***hello world ***hello world ***hello world ***hello world ***hello world ***hello world ***hello world ***hello world ***hello world ***hello world ***hello world ***hello world ***hello world ***hello world ***hello world ***hello world ***hello world ***hello world ***hello world ***hello world ***hello world ***hello world ***hello world ***hello world ***hello world ***hello world ***hello world ***hello world ***hello world ***hello world ***hello world ***hello world ***hello world ***hello world ***hello world ***hello world ***hello world ***hello world ***hello world ***hello world ***hello world ***hello world ***hello world ***hello world ***hello world ***hello world ***hello world ***hello world ***hello world ***hello world ***hello world ***hello world ***hello world ***hello world ***hello world ***hello world ***hello world ***hello world ***hello world ***hello world ***hello world ***hello world ***hello world ***hello world ***hello world ***hello world ***hello world ***hello world ***hello world ***hello world ***hello world ***hello world ***hello world ***hello world ***hello world ***hello world ***hello world ***hello world ***hello world ***hello world ***hello world ***hello world ***hello world ***hello world ***hello world ***hello world ***hello world ***hello world ***hello world ***hello world ***hello world ***hello world ***hello world ***hello world ***hello world ***hello world ***hello world ***hello world ***hello world ***hello world ***hello world ***hello world ***hello world ***hello world ***hello world ***hello world ***hello world ***hello world ***hello world ***hello world ***hello world ***hello world ***hello world ***hello world ***hello world ***hello world ***hello world ***hello world ***hello world ***hello world ***hello world ***hello world ***hello world ***hello world ***hello world ***hello world ***hello world ***hello world ***hello world ***hello world ***hello world ***hello world ***hello world ***hello world ***hello world ***hello world ***hello world ***hello world ***hello world ***hello world ***hello world ***hello world ***hello world ***hello world ***hello world ***hello world ***hello world ***hello world ***hello world ***hello world ***hello world ***hello world ***hello world ***hello world ***hello world ***hello world ***hello world ***hello world ***hello world ***hello world ***hello world ***hello world ***hello world ***hello world ***hello world ***hello world ***hello world ***hello world ***hello world ***hello world ***hello world ***hello world ***hello world ***hello world ***hello world ***hello world ***hello world ***hello world ***hello world ***hello world ***hello world ***hello world ***hello world ***hello world ***hello world ***hello world ***hello world ***hello world ***hello world ***hello world ***hello world ***hello world ***hello world ***hello world ***hello world ***hello world ***hello world ***hello world ***hello world ***hello world ***hello world ***hello world ***hello world ***hello world ***hello world ***hello world ***hello world ***hello world ***hello world ***hello world ***hello world ***hello world ***hello world ***hello world ***hello world ***hello world ***hello world ***hello world ***hello world ***hello world ***hello world ***hello world ***hello world ***hello world ***hello world ***hello world ***hello world ***hello world ***hello world ***hello world ***hello world ***hello world ***hello world ***hello world ***hello world ***hello world ***hello world ***hello world ***hello world ***hello world ***hello world ***hello world ***hello world ***hello world ***hello world ***hello world ***hello world ***hello world ***hello world ***hello world ***hello world ***hello world ***hello world ***hello world ***hello world ***hello world ***hello world ***hello world ***hello world ***hello world ***hello world ***hello world ***hello world ***hello world ***hello world ***hello world ***hello world ***hello world ***hello world ***hello world ***hello world ***hello world ***hello world ***hello world ***hello world ***hello world ***hello world ***hello world ***hello world ***hello world ***hello world ***hello world ***hello world ***hello world ***hello world ***hello world ***hello world ***hello world ***hello world ***hello world ***hello world ***hello world ***hello world ***hello world ***hello world ***hello world ***hello world ***hello world ***hello world ***hello world ***hello world ***hello world ***hello world ***hello world ***hello world ***hello world ***hello world ***hello world ***hello world ***hello world ***hello world ***hello world ***hello world ***hello world ***hello world ***hello world ***hello world ***hello world ***hello world ***hello world ***hello world ***hello world ***hello world ***hello world ***hello world ***hello world ***hello world ***hello world ***hello world ***hello world ***hello world ***hello world ***hello world ***hello world ***hello world ***hello world ***hello world ***hello world ***hello world ***hello world ***hello world ***hello world ***hello world ***hello world ***hello world ***hello world ***hello world ***hello world ***hello world ***hello world ***hello world ***hello world ***hello world ***hello world ***hello world ***hello world ***hello world ***hello world ***hello world ***hello world ***hello world ***hello world ***hello world ***hello world ***hello world ***hello world ***hello world ***hello world ***hello world ***hello world ***hello world ***hello world ***hello world ***hello world ***hello world ***hello world ***hello world ***hello world ***hello world ***hello world ***hello world ***hello world ***hello world ***hello world ***hello world ***hello world ***hello world ***hello world ***hello world ***hello world ***hello world ***hello world ***hello world ***hello world ***hello world ***hello world ***hello world ***hello world ***hello world ***hello world ***hello world ***hello world ***hello world ***hello world ***hello world ***hello world ***hello world ***hello world ***hello world ***hello world ***hello world ***hello world ***hello world ***hello world ***hello world ***hello world ***hello world ***hello world ***hello world ***hello world ***hello world ***hello world ***hello world ***hello world ***hello world ***hello world ***hello world ***hello world ***hello world ***hello world ***hello world ***hello world ***hello world ***hello world ***hello world ***hello world ***hello world ***hello world ***hello world ***hello world ***hello world ***hello world ***hello world ***hello world ***hello world ***hello world ***hello world ***hello world ***hello world ***hello world ***hello world ***hello world ***hello world ***hello world ***hello world ***hello world ***hello world ***hello world ***hello world ***hello world ***hello world ***hello world ***hello world ***hello world ***hello world ***hello world ***hello world ***hello world ***hello world ***hello world ***hello world ***hello world ***hello world ***hello world ***hello world ***hello world ***hello world ***hello world ***hello world ***hello world ***hello world ***hello world ***hello world ***hello world ***hello world ***hello world ***hello world ***hello world ***hello world ***hello world ***hello world ***hello world ***hello world ***hello world ***hello world ***hello world ***hello world ***hello world ***hello world ***hello world ***hello world ***hello world ***hello world ***hello world ***hello world ***hello world ***hello world ***hello world ***hello world ***hello world ***hello world ***hello world ***hello world ***hello world ***hello world ***hello world ***hello world ***hello world ***hello world ***hello world ***hello world ***hello world ***hello world ***hello world ***hello world ***hello world ***hello world ***hello world ***hello world ***hello world ***hello world ***hello world ***hello world ***hello world ***hello world ***hello world ***hello world ***hello world ***hello world ***hello world ***hello world ***hello world ***hello world ***hello world ***hello world ***hello world ***hello world ***hello world ***hello world ***hello world ***hello world ***hello world ***hello world ***hello world ***hello world ***hello world ***hello world ***hello world ***hello world ***hello world ***hello world ***hello world ***hello world ***hello world ***hello world ***hello world ***hello world ***hello world ***hello world ***hello world ***hello world ***hello world ***hello world ***hello world ***hello world ***hello world ***hello world ***hello world ***hello world ***hello world ***hello world ***hello world ***hello world ***hello world ***hello world ***hello world ***hello world ***hello world ***hello world ***hello world ***hello world ***hello world ***hello world ***hello world ***hello world ***hello world ***hello world ***hello world ***hello world ***hello world ***hello world ***hello world ***hello world ***hello world ***hello world ***hello world ***hello world ***hello world ***hello world ***hello world ***hello world ***hello world ***hello world ***hello world ***hello world ***hello world ***hello world ***hello world ***hello world ***hello world ***hello world ***hello world ***hello world ***hello world ***hello world ***hello world ***hello world ***hello world ***hello world ***hello world ***hello world ***hello world ***hello world ***hello world ***hello world ***hello world ***hello world ***hello world ***hello world ***hello world ***hello world ***hello world ***hello world ***hello world ***hello world ***hello world ***hello world ***hello world ***hello world ***hello world ***hello world ***hello world ***hello world ***hello world ***hello world ***hello world ***hello world ***hello world ***hello world ***hello world ***hello world ***hello world ***hello world ***hello world ***hello world ***hello world ***hello world ***hello world ***hello world ***hello world ***hello world ***hello world ***hello world ***hello world ***hello world ***hello world ***hello world ***hello world ***hello world ***hello world ***hello world ***hello world ***hello world ***hello world ***hello world ***hello world ***hello world ***hello world ***hello world ***hello world ***hello world ***hello world ***hello world ***hello world ***hello world ***hello world ***hello world ***hello world ***hello world ***hello world ***hello world ***hello world ***hello world ***hello world ***hello world ***hello world ***hello world ***hello world ***hello world ***hello world ***hello world ***hello world ***hello world ***hello world ***hello world ***hello world ***hello world ***hello world ***hello world ***hello world ***hello world ***hello world ***hello world ***hello world ***hello world ***hello world ***hello world ***hello world ***hello world ***hello world ***hello world ***hello world ***hello world ***hello world ***hello world ***hello world ***hello world ***hello world ***hello world ***hello world ***hello world ***hello world ***hello world ***hello world ***hello world ***hello world ***hello world ***hello world ***hello world ***hello world ***hello world ***hello world ***hello world ***hello world ***hello world ***hello world ***hello world ***hello world ***hello world ***hello world ***hello world ***hello world ***hello world ***hello world ***hello world ***hello world ***hello world ***hello world ***hello world ***hello world ***hello world ***hello world ***hello world ***hello world ***hello world ***hello world ***hello world ***hello world ***hello world ***hello world ***hello world ***hello world ***hello world ***hello world ***hello world ***hello world ***hello world ***hello world ***hello world ***hello world ***hello world ***hello world ***hello world ***hello world ***hello world ***hello world ***hello world ***hello world ***hello world ***hello world ***hello world ***hello world ***hello world ***hello world ***hello world ***hello world ***hello world ***hello world ***hello world ***hello world ***hello world ***hello world ***hello world ***hello world ***hello world ***hello world ***hello world ***hello world ***hello world ***hello world ***hello world ***hello world ***hello world ***hello world ***hello world ***hello world ***hello world ***hello world ***hello world ***hello world ***hello world ***hello world ***hello world ***hello world ***hello world ***hello world ***hello world ***hello world ***hello world ***hello world ***hello world ***hello world ***hello world ***hello world ***hello world ***hello world ***hello world ***hello world ***hello world ***hello world ***hello world ***hello world ***hello world ***hello world ***hello world ***hello world ***hello world ***hello world ***hello world ***hello world ***hello world ***hello world ***hello world ***hello world ***hello world ***hello world ***hello world ***hello world ***hello world ***hello world ***hello world ***hello world ***hello world ***hello world ***hello world ***hello world ***hello world ***hello world ***hello world ***hello world ***hello world ***hello world ***hello world ***hello world ***hello world ***hello world ***hello world ***hello world ***hello world ***hello world ***hello world ***hello world ***hello world ***hello world ***hello world ***hello world ***hello world ***hello world ***hello world ***hello world ***hello world ***hello world ***hello world ***hello world ***hello world ***hello world ***hello world ***hello world ***hello world ***hello world ***hello world ***hello world ***hello world ***hello world ***hello world ***hello world ***hello world ***hello world ***hello world ***hello world ***hello world ***hello world ***hello world ***hello world ***hello world ***hello world ***hello world ***hello world ***hello world ***hello world ***hello world ***hello world ***hello world ***hello world ***hello world ***hello world ***hello world ***hello world ***hello world ***hello world ***hello world ***hello world ***hello world ***hello world ***hello world ***hello world ***hello world ***hello world ***hello world ***hello world ***hello world ***hello world ***hello world ***hello world ***hello world ***hello world ***hello world ***hello world ***hello world ***hello world ***hello world ***hello world ***hello world ***hello world ***hello world ***hello world ***hello world ***hello world ***hello world ***hello world ***hello world ***hello world ***hello world ***hello world ***hello world ***hello world ***hello world ***hello world ***hello world ***hello world ***hello world ***hello world ***hello world ***hello world ***hello world ***hello world ***hello world ***hello world ***hello world ***hello world ***hello world ***hello world ***hello world ***hello world ***hello world ***hello world ***hello world ***hello world ***hello world ***hello world ***hello world ***hello world ***hello world ***hello world ***hello world ***hello world ***hello world ***hello world ***hello world ***hello world ***hello world ***hello world ***hello world ***hello world ***hello world ***hello world ***hello world ***hello world ***hello world ***hello world ***hello world ***hello world ***hello world ***hello world ***hello world ***hello world ***hello world ***hello world ***hello world ***hello world ***hello world ***hello world ***hello world ***hello world ***hello world ***hello world ***hello world ***hello world ***hello world ***hello world ***hello world ***hello world ***hello world ***hello world ***hello world ***hello world ***hello world ***hello world ***hello world ***hello world ***hello world ***hello world ***hello world ***hello world ***hello world ***hello world ***hello world ***hello world ***hello world ***hello world ***hello world ***hello world ***hello world ***hello world ***hello world ***hello world ***hello world ***hello world ***hello world ***hello world ***hello world ***hello world ***hello world ***hello world ***hello world ***hello world ***hello world ***hello world ***hello world ***hello world ***hello world ***hello world ***hello world ***hello world ***hello world ***hello world ***hello world ***hello world ***hello world ***hello world ***hello world ***hello world ***hello world ***hello world ***hello world ***hello world ***hello world ***hello world ***hello world ***hello world ***hello world ***hello world ***hello world ***hello world ***hello world ***hello world ***hello world ***hello world ***hello world ***hello world ***hello world ***hello world ***hello world ***hello world ***hello world ***hello world ***hello world ***hello world ***hello world ***hello world ***hello world ***hello world ***hello world ***hello world ***hello world ***hello world ***hello world ***hello world ***hello world ***hello world ***hello world ***hello world ***hello world ***hello world ***hello world ***hello world ***hello world ***hello world ***hello world ***hello world ***hello world ***hello world ***hello world ***hello world ***hello world ***hello world ***hello world ***hello world ***hello world ***hello world ***hello world ***hello world ***hello world ***hello world ***hello world ***hello world ***hello world ***hello world ***hello world ***hello world ***hello world ***hello world ***hello world ***hello world ***hello world ***hello world ***hello world ***hello world ***hello world ***hello world ***hello world ***hello world ***hello world ***hello world ***hello world ***hello world ***hello world ***hello world ***hello world ***hello world ***hello world ***hello world ***hello world ***hello world ***hello world ***hello world ***hello world ***hello world ***hello world ***hello world ***hello world ***hello world ***hello world ***hello world ***hello world ***hello world ***hello world ***hello world ***hello world ***hello world ***hello world ***hello world ***hello world ***hello world ***hello world ***hello world ***hello world ***hello world ***hello world ***hello world ***hello world ***hello world ***hello world ***hello world ***hello world ***hello world ***hello world ***hello world ***hello world ***hello world ***hello world ***hello world ***hello world ***hello world ***hello world ***hello world ***hello world ***hello world ***hello world ***hello world ***hello world ***hello world ***hello world ***hello world ***hello world ***hello world ***hello world ***hello world ***hello world ***hello world ***hello world ***hello world ***hello world ***hello world ***hello world ***hello world ***hello world ***hello world ***hello world ***hello world ***hello world ***hello world ***hello world ***hello world ***hello world ***hello world ***hello world ***hello world ***hello world ***hello world ***hello world ***hello world ***hello world ***hello world ***hello world ***hello world ***hello world ***hello world ***hello world ***hello world ***hello world ***hello world ***hello world ***hello world ***hello world ***hello world ***hello world ***hello world ***hello world ***hello world ***hello world ***hello world ***hello world ***hello world ***hello world ***hello world ***hello world ***hello world ***hello world ***hello world ***hello world ***hello world ***hello world ***hello world ***hello world ***hello world ***hello world ***hello world ***hello world ***hello world ***hello world ***hello world ***hello world ***hello world ***hello world ***hello world ***hello world ***hello world ***hello world ***hello world ***hello world ***hello world ***hello world ***hello world ***hello world ***hello world ***hello world ***hello world ***hello world ***hello world ***hello world ***hello world ***hello world ***hello world ***hello world ***hello world ***hello world ***hello world ***hello world ***hello world ***hello world ***hello world ***hello world ***hello world ***hello world ***hello world ***hello world ***hello world ***hello world ***hello world ***hello world ***hello world ***hello world ***hello world ***hello world ***hello world ***hello world ***hello world ***hello world ***hello world ***hello world ***hello world ***hello world ***hello world ***hello world ***hello world ***hello world ***hello world ***hello world ***hello world ***hello world ***hello world ***hello world ***hello world ***hello world ***hello world ***hello world ***hello world ***hello world ***hello world ***hello world ***hello world ***hello world ***hello world ***hello world ***hello world ***hello world ***hello world ***hello world ***hello world ***hello world ***hello world ***hello world ***hello world ***hello world ***hello world ***hello world ***hello world ***hello world ***hello world ***hello world ***hello world ***hello world ***hello world ***hello world ***hello world ***hello world ***hello world ***hello world ***hello world ***hello world ***hello world ***hello world ***hello world ***hello world ***hello world ***hello world ***hello world ***hello world ***hello world ***hello world ***hello world ***hello world ***hello world ***hello world ***hello world ***hello world ***hello world ***hello world ***hello world ***hello world ***hello world ***hello world ***hello world ***hello world ***hello world ***hello world ***hello world ***hello world ***hello world ***hello world ***hello world ***hello world ***hello world ***hello world ***hello world ***hello world ***hello world ***hello world ***hello world ***hello world ***hello world ***hello world ***hello world ***hello world ***hello world ***hello world ***hello world ***hello world ***hello world ***hello world ***hello world ***hello world ***hello world ***hello world ***hello world ***hello world ***hello world ***hello world ***hello world ***hello world ***hello world ***hello world ***hello world ***hello world ******"
     ]
    }
   ],
   "source": [
    "with open(\"./txt files/big.txt\", \"r\") as f:\n",
    "    chunk_size = 12\n",
    "\n",
    "    while len(f.read(chunk_size)) > 0:\n",
    "        print(f.read(chunk_size), end=\"***\")\n",
    "        f. read(chunk_size)\n",
    "        "
   ]
  },
  {
   "cell_type": "code",
   "execution_count": 45,
   "id": "ed26eee6",
   "metadata": {},
   "outputs": [
    {
     "name": "stdout",
     "output_type": "stream",
     "text": [
      "This is De\n",
      "10\n",
      "12\n",
      "i \n",
      "This is P\n"
     ]
    }
   ],
   "source": [
    "# seek and tell funcation\n",
    "with open(\"txt files/test.txt\", \"r\") as f:\n",
    "    print(f.read(10))\n",
    "    print(f.tell())\n",
    "    print(f.seek(12))\n",
    "    print(f.read(12))"
   ]
  },
  {
   "cell_type": "code",
   "execution_count": 1,
   "id": "c2353e17",
   "metadata": {},
   "outputs": [],
   "source": [
    "for i in range(100):\n",
    "    f = open(f\"text{i}.txt\", \"w\")\n",
    "    f.write(\"hello world\")\n",
    "    f.close()"
   ]
  },
  {
   "cell_type": "code",
   "execution_count": 1,
   "id": "18820745",
   "metadata": {},
   "outputs": [
    {
     "name": "stdout",
     "output_type": "stream",
     "text": [
      "Hello World!\n",
      "This is a sample text file.\n",
      "Writing multiple lines.\n",
      "\n",
      "Hello World!\n",
      "This is a sample text file.\n",
      "Writing multiple lines.\n",
      "Hello Worl\n",
      "File exists\n",
      "File has been deleted\n"
     ]
    }
   ],
   "source": [
    "# Example of file handling operations in Python\n",
    "\n",
    "# Writing to a file\n",
    "with open('example.txt', 'w') as file:\n",
    "    file.write('Hello World!\\n')\n",
    "    file.write('This is a sample text file.\\n')\n",
    "    file.write('Writing multiple lines.\\n')\n",
    "\n",
    "# Reading from a file\n",
    "with open('example.txt', 'r') as file:\n",
    "    content = file.read()\n",
    "    print(content)\n",
    "\n",
    "# Reading file line by line\n",
    "with open('example.txt', 'r') as file:\n",
    "    for line in file:\n",
    "        print(line.strip())\n",
    "\n",
    "# Appending to a file\n",
    "with open('example.txt', 'a') as file:\n",
    "    file.write('This line is appended.\\n')\n",
    "\n",
    "# Reading specific number of characters\n",
    "with open('example.txt', 'r') as file:\n",
    "    first_ten_chars = file.read(10)\n",
    "    print(first_ten_chars)\n",
    "\n",
    "# Checking if file exists\n",
    "import os\n",
    "if os.path.exists('example.txt'):\n",
    "    print('File exists')\n",
    "else:\n",
    "    print('File does not exist')\n",
    "\n",
    "# Deleting a file\n",
    "if os.path.exists('example.txt'):\n",
    "    os.remove('example.txt')\n",
    "    print('File has been deleted')"
   ]
  },
  {
   "cell_type": "code",
   "execution_count": 2,
   "id": "761c4cbe",
   "metadata": {},
   "outputs": [],
   "source": [
    "import os\n",
    "for i in range(100):\n",
    "    os.remove(f\"text{i}.txt\")"
   ]
  },
  {
   "cell_type": "code",
   "execution_count": null,
   "id": "b24e1a05",
   "metadata": {},
   "outputs": [],
   "source": [
    "# seek during write \n",
    "with open(\"txt files/test.txt\", \"w\") as f:\n",
    "    f.write(\"hello world\")\n",
    "    f.seek(0)\n",
    "    f.write(\"X\") # Xello world"
   ]
  },
  {
   "cell_type": "code",
   "execution_count": 63,
   "id": "c34e7122",
   "metadata": {},
   "outputs": [],
   "source": [
    "# working with binary file\n",
    "with open(\"image.png\", 'rb') as f:\n",
    "    with open('image_copy.png', 'wb') as wf:\n",
    "        wf.write(f.read()) # create new copy of image\n"
   ]
  },
  {
   "cell_type": "markdown",
   "id": "8c853674",
   "metadata": {},
   "source": [
    "Serialzation and Deserialization\n",
    "* serialzation - process of converting python data types to JSON format\n",
    "* deserialzation - process of converting json to python data type"
   ]
  },
  {
   "cell_type": "code",
   "execution_count": 66,
   "id": "08976cfe",
   "metadata": {},
   "outputs": [
    {
     "name": "stdout",
     "output_type": "stream",
     "text": [
      "{'krishna': {'name': 'hello', 'age': 20, 'gender': 'male'}}\n",
      "<class 'dict'>\n"
     ]
    }
   ],
   "source": [
    "# deserialization \n",
    "import json \n",
    "\n",
    "with open('data.json', 'r') as f:\n",
    "    data = json.load(f)\n",
    "    print(data)\n",
    "    print(type(data))"
   ]
  },
  {
   "cell_type": "code",
   "execution_count": 72,
   "id": "f79819b7",
   "metadata": {},
   "outputs": [
    {
     "name": "stdout",
     "output_type": "stream",
     "text": [
      "<class '_io.TextIOWrapper'>\n"
     ]
    }
   ],
   "source": [
    "# serialization using json module\n",
    "#list\n",
    "\n",
    "import json\n",
    "\n",
    "L = [1,2,3,4]\n",
    "with open (\"demo.json\", \"w\") as f:\n",
    "    json.dump(L, f)\n",
    "    print(type(f))"
   ]
  },
  {
   "cell_type": "code",
   "execution_count": null,
   "id": "34ec1ad5",
   "metadata": {},
   "outputs": [],
   "source": [
    "import json\n",
    "\n",
    "L = {\n",
    "    \"person1\":{\n",
    "    'name': 'John',\n",
    "    'age': 30,\n",
    "    'city': 'New York'}\n",
    "    }\n",
    "with open (\"demo.json\", \"w\") as f:\n",
    "    json.dump(L, f)\n",
    "    "
   ]
  },
  {
   "cell_type": "code",
   "execution_count": 73,
   "id": "15c13773",
   "metadata": {},
   "outputs": [
    {
     "name": "stdout",
     "output_type": "stream",
     "text": [
      "[1, 2, 3, 4]\n",
      "<class 'list'>\n"
     ]
    }
   ],
   "source": [
    "with open (\"demo.json\", \"r\") as f:\n",
    "    data = json.load(f)\n",
    "    print(data)\n",
    "    print(type(data))"
   ]
  },
  {
   "cell_type": "code",
   "execution_count": 1,
   "id": "018937d1",
   "metadata": {},
   "outputs": [],
   "source": [
    "with open('./txt files/test.txt', 'r') as f:\n",
    "    with open('./txt files/textcopy.txt','w') as wf:\n",
    "        wf.write(f.read())\n"
   ]
  },
  {
   "cell_type": "code",
   "execution_count": 1,
   "id": "0e8ee3cc",
   "metadata": {},
   "outputs": [
    {
     "name": "stdout",
     "output_type": "stream",
     "text": [
      "All lines as a list:\n",
      "['krishna borude\\n', 'Ajinkya pagare\\n', 'joan\\n', 'prasad\\n', 'om\\n', 'rahul \\n', 'madav\\n']\n",
      "\n",
      "Printing each line one by one:\n",
      "krishna borude\n",
      "Ajinkya pagare\n",
      "joan\n",
      "prasad\n",
      "om\n",
      "rahul\n",
      "madav\n"
     ]
    }
   ],
   "source": [
    "# Example of using readlines()\n",
    "with open(\"./txt files/student.txt\", \"r\") as file:\n",
    "    # Read all lines into a list\n",
    "    lines = file.readlines()\n",
    "    \n",
    "    print(\"All lines as a list:\")\n",
    "    print(lines)\n",
    "    \n",
    "    print(\"\\nPrinting each line one by one:\")\n",
    "    for line in lines:\n",
    "        print(line.strip())  # strip() removes the newline character"
   ]
  },
  {
   "cell_type": "markdown",
   "id": "68d1870b",
   "metadata": {},
   "source": [
    "# readlines() Function in Python\n",
    "\n",
    "The `readlines()` method reads all the lines from a file and returns them as a list of strings. Each line in the file becomes an element in the list, with the newline character (\\n) preserved at the end of each line.\n",
    "\n",
    "Key points about readlines():\n",
    "- Returns a list where each element is a line from the file\n",
    "- Keeps the newline characters (\\n) at the end of each line\n",
    "- Useful when you want to process the file line by line\n",
    "- Reads the entire file into memory, so be careful with very large files"
   ]
  },
  {
   "cell_type": "code",
   "execution_count": 1,
   "id": "6c351e90",
   "metadata": {},
   "outputs": [],
   "source": [
    "import json\n",
    "\n",
    "t= (1,2,3,4,5)\n",
    "\n",
    "with open(\"tuple.json\", \"w\") as f:\n",
    "    json.dump(t, f)\n"
   ]
  },
  {
   "cell_type": "code",
   "execution_count": 18,
   "id": "74e4be30",
   "metadata": {},
   "outputs": [],
   "source": [
    "class Person:\n",
    "    def __init__(self, fname,lname, age, gender):\n",
    "        self.fname = fname\n",
    "        self.lname = lname\n",
    "        self.age =  age\n",
    "        self.gender = gender\n",
    "# formate to printed in\n",
    "# -> Nitish singh age -> 33 gender-> male\n",
    "    def display_info(self):\n",
    "        return \"{} {} age -> {} gender -> {}\".format(self.fname,self.lname,self.age,self.gender) \n",
    "\n",
    "Person1 = Person(\"Nitish\", \"singh\", 33,\"male\")"
   ]
  },
  {
   "cell_type": "code",
   "execution_count": 13,
   "id": "8a6b5fb0",
   "metadata": {},
   "outputs": [
    {
     "name": "stdout",
     "output_type": "stream",
     "text": [
      "<class 'str'>\n"
     ]
    }
   ],
   "source": [
    "import json\n",
    "\n",
    "def show_object(Person):\n",
    "    if isinstance(Person1, Person):\n",
    "        return \"{} {} age -> {} gender-> {}\".format(Person1.fname, Person1.lname, Person1.age, Person1.gender)\n",
    "\n",
    "with open(\"person.json\", \"w\") as f:\n",
    "    json.dump(Person, f, default=show_object)\n",
    "with open(\"person.json\", \"r\") as f:\n",
    "    data = json.load(f)\n",
    "    print(type(data))"
   ]
  },
  {
   "cell_type": "markdown",
   "id": "f18ce687",
   "metadata": {},
   "source": [
    "### Pinklig and Unpinklig\n",
    "* Pinklig is process whereby a python object hierarchy is converted into a byte stream, and \n",
    "* unpinklig is inverse operation, whereby a byte stream is converted back into an object hierarchy."
   ]
  },
  {
   "cell_type": "markdown",
   "id": "2966be5f",
   "metadata": {},
   "source": [
    "### pickle Vs JSON"
   ]
  },
  {
   "cell_type": "code",
   "execution_count": 20,
   "id": "83e26463",
   "metadata": {},
   "outputs": [
    {
     "data": {
      "text/plain": [
       "'Nitish singh age -> 33 gender -> male'"
      ]
     },
     "execution_count": 20,
     "metadata": {},
     "output_type": "execute_result"
    }
   ],
   "source": [
    "class Person:\n",
    "    def __init__(self, fname,lname, age, gender):\n",
    "        self.fname = fname\n",
    "        self.lname = lname\n",
    "        self.age =  age\n",
    "        self.gender = gender\n",
    "# formate to printed in\n",
    "# -> Nitish singh age -> 33 gender-> male\n",
    "    def display_info(self):\n",
    "        return \"{} {} age -> {} gender -> {}\".format(self.fname,self.lname,self.age,self.gender) \n",
    "\n",
    "Person1 = Person(\"Nitish\", \"singh\", 33,\"male\")\n",
    "\n",
    "\n",
    "import pickle\n",
    "\n",
    "with open(\"person.pkl\", \"wb\") as f:\n",
    "    pickle.dump(Person1, f)\n",
    "\n",
    "with open(\"person.pkl\", \"rb\") as f:\n",
    "    p = pickle.load(f)\n",
    "p.display_info()"
   ]
  },
  {
   "cell_type": "code",
   "execution_count": null,
   "id": "db651369",
   "metadata": {},
   "outputs": [],
   "source": []
  }
 ],
 "metadata": {
  "kernelspec": {
   "display_name": "Python 3",
   "language": "python",
   "name": "python3"
  },
  "language_info": {
   "codemirror_mode": {
    "name": "ipython",
    "version": 3
   },
   "file_extension": ".py",
   "mimetype": "text/x-python",
   "name": "python",
   "nbconvert_exporter": "python",
   "pygments_lexer": "ipython3",
   "version": "3.10.11"
  }
 },
 "nbformat": 4,
 "nbformat_minor": 5
}
