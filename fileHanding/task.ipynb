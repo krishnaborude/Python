{
 "cells": [
  {
   "cell_type": "markdown",
   "id": "effdf18b",
   "metadata": {},
   "source": [
    "Write a Python program to create a text file named student.txt and store 5 student names in it.\n",
    " \n",
    "Write a Python program to read the contents of a file and display them on the screen.\n",
    " \n",
    "Write a program to count the number of lines, words, and characters in a file.\n",
    " \n",
    "Write a program to append user input at the end of an existing file.\n",
    " \n",
    "Write a program to copy the contents of one file into another.\n",
    " \n",
    "Write a program that reads a file and prints only those lines that start with the letter “A”.\n",
    " \n",
    "Write a program to read a file and remove all the blank lines.\n",
    " \n",
    "Write a program to read a file and print the frequency of each word."
   ]
  },
  {
   "cell_type": "code",
   "execution_count": 2,
   "id": "9c9518d0",
   "metadata": {},
   "outputs": [
    {
     "name": "stdout",
     "output_type": "stream",
     "text": [
      "Student names stored successfully.\n"
     ]
    }
   ],
   "source": [
    "# Write a Python program to create a text file named student.txt and store 5 student names in it.\n",
    "f = open(\"./txt files/student.txt\", \"w\")\n",
    "for i in range(5):\n",
    "    name = input(\"Enter student name: \")\n",
    "    f.write(name + \"\\n\")\n",
    "f.close()\n",
    "print(\"Student names stored successfully.\")"
   ]
  },
  {
   "cell_type": "code",
   "execution_count": 3,
   "id": "660faf07",
   "metadata": {},
   "outputs": [
    {
     "name": "stdout",
     "output_type": "stream",
     "text": [
      "krishna borude\n",
      "ajinkya pagare\n",
      "joan\n",
      "prasad\n",
      "om\n",
      "\n"
     ]
    }
   ],
   "source": [
    "# Write a Python program to read the contents of a file and display them on the screen.\n",
    "f = open(\"./txt files/student.txt\", \"r\")\n",
    "all_student = f.read()\n",
    "print(all_student)"
   ]
  },
  {
   "cell_type": "code",
   "execution_count": 6,
   "id": "11b5a11e",
   "metadata": {},
   "outputs": [
    {
     "name": "stdout",
     "output_type": "stream",
     "text": [
      "Number of lines: 6\n",
      "Number of words: 8\n",
      "Number of characters: 52\n"
     ]
    }
   ],
   "source": [
    "# Write a program to count the number of lines, words, and characters in a file.\n",
    "with open(\"./txt files/student.txt\", \"r\") as f:\n",
    "    lines = f.readlines()\n",
    "    num_lines = len(lines)\n",
    "    num_words = sum(len(line.split()) for line in lines)\n",
    "    num_chars = sum(len(line) for line in lines)\n",
    "print(\"Number of lines:\", num_lines)\n",
    "print(\"Number of words:\", num_words)\n",
    "print(\"Number of characters:\", num_chars)"
   ]
  },
  {
   "cell_type": "code",
   "execution_count": 7,
   "id": "6d613154",
   "metadata": {},
   "outputs": [
    {
     "name": "stdout",
     "output_type": "stream",
     "text": [
      "Student name appended successfully.\n"
     ]
    }
   ],
   "source": [
    "# Write a program to append user input at the end of an existing file.\n",
    "with open(\"./txt files/student.txt\", \"a\") as f:\n",
    "    name = input(\"Enter student name to append: \")\n",
    "    f.write(name + \"\\n\")\n",
    "print(\"Student name appended successfully.\")"
   ]
  },
  {
   "cell_type": "code",
   "execution_count": 8,
   "id": "4cd19fe6",
   "metadata": {},
   "outputs": [
    {
     "name": "stdout",
     "output_type": "stream",
     "text": [
      "Contents copied successfully.\n"
     ]
    }
   ],
   "source": [
    "# Write a program to copy the contents of one file into another.\n",
    "with open(\"./txt files/student.txt\", \"r\") as f:\n",
    "    with open(\"./txt files/copy_student.txt\", \"w\") as f2:\n",
    "        f2.write(f.read())\n",
    "print(\"Contents copied successfully.\")"
   ]
  },
  {
   "cell_type": "code",
   "execution_count": 11,
   "id": "6f5acab4",
   "metadata": {},
   "outputs": [
    {
     "name": "stdout",
     "output_type": "stream",
     "text": [
      "Ajinkya pagare\n"
     ]
    }
   ],
   "source": [
    "# Write a program that reads a file and prints only those lines that start with the letter “A”.\n",
    "with open(\"./txt files/student.txt\", \"r\") as f:\n",
    "    for line in f:\n",
    "        if line.startswith(\"A\"):\n",
    "            print(line.strip())"
   ]
  },
  {
   "cell_type": "code",
   "execution_count": 12,
   "id": "c964c19d",
   "metadata": {},
   "outputs": [
    {
     "name": "stdout",
     "output_type": "stream",
     "text": [
      "Blank lines removed successfully.\n"
     ]
    }
   ],
   "source": [
    "# Write a program to read a file and remove all the blank lines.\n",
    "with open(\"./txt files/student.txt\", \"r\") as f:\n",
    "    lines = f.readlines()\n",
    "with open(\"./txt files/student.txt\", \"w\") as f:\n",
    "    for line in lines:\n",
    "        if line.strip():\n",
    "            f.write(line)\n",
    "print(\"Blank lines removed successfully.\")"
   ]
  },
  {
   "cell_type": "code",
   "execution_count": 14,
   "id": "d826efdc",
   "metadata": {},
   "outputs": [
    {
     "name": "stdout",
     "output_type": "stream",
     "text": [
      "Word frequency:\n",
      "krishna: 1\n",
      "borude: 1\n",
      "ajinkya: 1\n",
      "pagare: 1\n",
      "joan: 1\n",
      "prasad: 1\n",
      "om: 1\n",
      "rahul: 1\n",
      "madav: 1\n"
     ]
    }
   ],
   "source": [
    "# Write a program to read a file and print the frequency of each word.\n",
    "with open(\"./txt files/student.txt\", \"r\") as f:\n",
    "    text = f.read()\n",
    "    words = text.split()\n",
    "    word_freq = {}\n",
    "    for word in words:\n",
    "        word = word.lower().strip(\",.!?;:\\\"'()[]{}\")\n",
    "        if word in word_freq:\n",
    "            word_freq[word] += 1\n",
    "        else:\n",
    "            word_freq[word] = 1\n",
    "    print(\"Word frequency:\")\n",
    "    for word, freq in word_freq.items():\n",
    "        print(f\"{word}: {freq}\")\n"
   ]
  },
  {
   "cell_type": "code",
   "execution_count": null,
   "id": "13ba556a",
   "metadata": {},
   "outputs": [],
   "source": []
  }
 ],
 "metadata": {
  "kernelspec": {
   "display_name": "Python 3",
   "language": "python",
   "name": "python3"
  },
  "language_info": {
   "codemirror_mode": {
    "name": "ipython",
    "version": 3
   },
   "file_extension": ".py",
   "mimetype": "text/x-python",
   "name": "python",
   "nbconvert_exporter": "python",
   "pygments_lexer": "ipython3",
   "version": "3.10.11"
  }
 },
 "nbformat": 4,
 "nbformat_minor": 5
}
