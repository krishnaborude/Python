{
 "cells": [
  {
   "cell_type": "markdown",
   "id": "4963c20e",
   "metadata": {},
   "source": [
    "🔹 Iterable\n",
    "\n",
    "An iterable is any Python object that can return an iterator.\n",
    "\n",
    "It is something you can loop through with a for loop.\n",
    "\n",
    "Examples: list, tuple, string, set, dict, range.\n",
    "\n",
    "Technically, an object is iterable if it has the method __iter__()."
   ]
  },
  {
   "cell_type": "code",
   "execution_count": 1,
   "id": "ce2c00c9",
   "metadata": {},
   "outputs": [
    {
     "name": "stdout",
     "output_type": "stream",
     "text": [
      "1\n",
      "2\n",
      "3\n",
      "4\n"
     ]
    }
   ],
   "source": [
    "nums = [1, 2, 3, 4]   # list is iterable\n",
    "for n in nums:\n",
    "    print(n)"
   ]
  },
  {
   "cell_type": "code",
   "execution_count": null,
   "id": "cec72dc0",
   "metadata": {},
   "outputs": [],
   "source": []
  }
 ],
 "metadata": {
  "kernelspec": {
   "display_name": "Python 3",
   "language": "python",
   "name": "python3"
  },
  "language_info": {
   "codemirror_mode": {
    "name": "ipython",
    "version": 3
   },
   "file_extension": ".py",
   "mimetype": "text/x-python",
   "name": "python",
   "nbconvert_exporter": "python",
   "pygments_lexer": "ipython3",
   "version": "3.10.11"
  }
 },
 "nbformat": 4,
 "nbformat_minor": 5
}
