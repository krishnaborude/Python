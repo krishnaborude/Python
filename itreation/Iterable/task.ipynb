{
 "cells": [
  {
   "cell_type": "markdown",
   "id": "ca84f3d6",
   "metadata": {},
   "source": [
    "1.  a list [10, 20, 30, 40] and check if it is iterable using hasattr(obj, \"__iter__\").\n",
    "\n",
    "2.  Write a program to loop through the string \"Python\" and print each character.\n",
    "\n",
    "3. Create a tuple (1, 2, 3, 4, 5) and convert it into an iterator using iter().\n",
    "\n",
    "4. Use a for loop to iterate over the set {2, 4, 6, 8} and print its elements.\n",
    "\n",
    "5. Create a dictionary {\"a\": 1, \"b\": 2, \"c\": 3} and iterate over:\n",
    "\n",
    "- (a) keys\n",
    "\n",
    "- (b) values\n",
    "\n",
    "- (c) key-value pairs\n",
    "\n",
    "6. Make a list of numbers range(1, 11) and print only the even numbers using iteration.\n",
    "\n",
    "7. Write a program to iterate over a string and count how many vowels it contains.\n",
    "\n",
    "8. Use enumerate() to iterate over the list [\"red\", \"green\", \"blue\"] and print index + value.\n",
    "\n",
    "9. Use zip() to iterate over two lists: [1,2,3] and ['a','b','c'] at the same time.\n",
    "\n",
    "10.  Write a program to check if an object is iterable or not (example: 123 vs [1,2,3])."
   ]
  },
  {
   "cell_type": "code",
   "execution_count": null,
   "id": "3e6c1ce6",
   "metadata": {},
   "outputs": [
    {
     "name": "stdout",
     "output_type": "stream",
     "text": [
      "10\n",
      "20\n",
      "30\n",
      "40\n",
      "True\n"
     ]
    }
   ],
   "source": [
    "# Create a list [10, 20, 30, 40] and check if it is iterable using hasattr(obj, \"__iter__\").\n",
    "list = [10, 20, 30, 40]\n",
    "for i in list:\n",
    "    print(i)\n",
    "print(hasattr(list,\"__iter__\")) "
   ]
  },
  {
   "cell_type": "markdown",
   "id": "a1bfd5e0",
   "metadata": {},
   "source": [
    "# hasattr"
   ]
  },
  {
   "cell_type": "markdown",
   "id": "862888e9",
   "metadata": {},
   "source": [
    "🔹 What is hasattr in Python?\n",
    "\n",
    "hasattr(object, attribute) is a built-in function.\n",
    "\n",
    "It is used to check whether an object has a specific attribute or not.\n",
    "\n",
    "Returns:\n",
    "\n",
    "True → if the object has that attribute\n",
    "\n",
    "False → if not"
   ]
  },
  {
   "cell_type": "code",
   "execution_count": 3,
   "id": "8d8cb466",
   "metadata": {},
   "outputs": [
    {
     "name": "stdout",
     "output_type": "stream",
     "text": [
      "True\n",
      "False\n"
     ]
    }
   ],
   "source": [
    "class Student:\n",
    "    def __init__(self, name, age):\n",
    "        self.name = name\n",
    "        self.age = age\n",
    "\n",
    "s = Student(\"Krish\", 21)\n",
    "\n",
    "print(hasattr(s, \"name\"))   # True (because s has name)\n",
    "print(hasattr(s, \"rollno\")) # False (no such attribute)\n"
   ]
  },
  {
   "cell_type": "code",
   "execution_count": 4,
   "id": "9c6c1fc3",
   "metadata": {},
   "outputs": [
    {
     "name": "stdout",
     "output_type": "stream",
     "text": [
      "P\n",
      "y\n",
      "t\n",
      "h\n",
      "o\n",
      "n\n"
     ]
    }
   ],
   "source": [
    "# Write a program to loop through the string \"Python\" and print each character.\n",
    "my_str = \"Python\"\n",
    "for i in my_str:\n",
    "    print(i)"
   ]
  },
  {
   "cell_type": "code",
   "execution_count": 5,
   "id": "78a0e3d4",
   "metadata": {},
   "outputs": [
    {
     "name": "stdout",
     "output_type": "stream",
     "text": [
      "1\n",
      "2\n",
      "3\n",
      "4\n",
      "5\n"
     ]
    }
   ],
   "source": [
    "# Create a tuple (1, 2, 3, 4, 5) and convert it into an iterator using iter().\n",
    "my_tuple = (1, 2, 3, 4, 5)\n",
    "for item in my_tuple:\n",
    "    print(item)"
   ]
  },
  {
   "cell_type": "code",
   "execution_count": 9,
   "id": "61d2cb45",
   "metadata": {},
   "outputs": [
    {
     "name": "stdout",
     "output_type": "stream",
     "text": [
      "8\n",
      "2\n",
      "4\n",
      "6\n"
     ]
    }
   ],
   "source": [
    "# Use a for loop to iterate over the set {2, 4, 6, 8} and print its elements.\n",
    "my_set = {2, 4, 6, 8}\n",
    "for i in my_set:\n",
    "    print(i)"
   ]
  },
  {
   "cell_type": "code",
   "execution_count": null,
   "id": "65f9a936",
   "metadata": {},
   "outputs": [
    {
     "name": "stdout",
     "output_type": "stream",
     "text": [
      "a\n",
      "b\n",
      "c\n",
      "1\n",
      "2\n",
      "3\n",
      "a 1\n",
      "b 2\n",
      "c 3\n"
     ]
    }
   ],
   "source": [
    "# Create a dictionary {\"a\": 1, \"b\": 2, \"c\": 3} and iterate over:\n",
    "\n",
    "# (a) keys\n",
    "\n",
    "# (b) values\n",
    "\n",
    "# (c) key-value pairs\n",
    "\n",
    "my_dict = {\"a\": 1, \"b\":2, \"c\":3}\n",
    "\n",
    "for i in my_dict:\n",
    "    print(i)\n",
    "\n",
    "for j in my_dict.values():\n",
    "    print(j)\n",
    "    \n",
    "for k,v in my_dict.items():\n",
    "    print(k,v)"
   ]
  },
  {
   "cell_type": "code",
   "execution_count": 12,
   "id": "e9ba23aa",
   "metadata": {},
   "outputs": [
    {
     "name": "stdout",
     "output_type": "stream",
     "text": [
      "2\n",
      "4\n",
      "6\n",
      "8\n",
      "10\n"
     ]
    }
   ],
   "source": [
    "# Make a list of numbers range(1, 11) and print only the even numbers using iteration.\n",
    "my_list = [i for i in range(1, 11)]\n",
    "for i in my_list:\n",
    "    if i % 2 == 0:\n",
    "        print(i)\n",
    "    "
   ]
  },
  {
   "cell_type": "code",
   "execution_count": 17,
   "id": "294f7611",
   "metadata": {},
   "outputs": [
    {
     "name": "stdout",
     "output_type": "stream",
     "text": [
      "2\n"
     ]
    }
   ],
   "source": [
    "# Write a program to iterate over a string and count how many vowels it contains.\n",
    "my_string = \"krishna\"\n",
    "count=0\n",
    "for i in my_string:\n",
    "    if i in \"AIOUEeioua\":\n",
    "        count+=1\n",
    "print(count)"
   ]
  },
  {
   "cell_type": "code",
   "execution_count": 18,
   "id": "57e2f981",
   "metadata": {},
   "outputs": [
    {
     "name": "stdout",
     "output_type": "stream",
     "text": [
      "(0, 'red')\n",
      "(1, 'green')\n",
      "(2, 'blue')\n"
     ]
    }
   ],
   "source": [
    "\n",
    "# Use enumerate() to iterate over the list [\"red\", \"green\", \"blue\"] and print index + value.\n",
    "my_list = [\"red\", \"green\", \"blue\"]\n",
    "for i in enumerate(my_list):\n",
    "    print(i)"
   ]
  },
  {
   "cell_type": "code",
   "execution_count": 22,
   "id": "58d0eb59",
   "metadata": {},
   "outputs": [
    {
     "name": "stdout",
     "output_type": "stream",
     "text": [
      "(1, 'a')\n",
      "(2, 'b')\n",
      "(3, 'c')\n"
     ]
    }
   ],
   "source": [
    "# Use zip() to iterate over two lists: [1,2,3] and ['a','b','c'] at thNameme time.\n",
    "list1 = [1,2,3]\n",
    "list2 = ['a','b','c']\n",
    "for i in zip(list1,list2):\n",
    "    print(i)"
   ]
  },
  {
   "cell_type": "code",
   "execution_count": 26,
   "id": "f0add848",
   "metadata": {},
   "outputs": [
    {
     "name": "stdout",
     "output_type": "stream",
     "text": [
      "False\n",
      "True\n"
     ]
    }
   ],
   "source": [
    "# Write a program to check if an object is iterable or not (example: 123 vs [1,2,3]).\n",
    "\n",
    "from collections.abc import Iterable\n",
    "num = 123\n",
    "print(isinstance(num, Iterable))\n",
    "\n",
    "lst = [1, 2, 3]\n",
    "print(isinstance(lst, Iterable))\n"
   ]
  },
  {
   "cell_type": "code",
   "execution_count": null,
   "id": "b0226586",
   "metadata": {},
   "outputs": [],
   "source": []
  }
 ],
 "metadata": {
  "kernelspec": {
   "display_name": "Python 3",
   "language": "python",
   "name": "python3"
  },
  "language_info": {
   "codemirror_mode": {
    "name": "ipython",
    "version": 3
   },
   "file_extension": ".py",
   "mimetype": "text/x-python",
   "name": "python",
   "nbconvert_exporter": "python",
   "pygments_lexer": "ipython3",
   "version": "3.10.11"
  }
 },
 "nbformat": 4,
 "nbformat_minor": 5
}
