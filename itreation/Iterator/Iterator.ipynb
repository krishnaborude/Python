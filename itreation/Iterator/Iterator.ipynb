{
 "cells": [
  {
   "cell_type": "markdown",
   "id": "fc8d62f6",
   "metadata": {},
   "source": [
    "🔹 Iterator\n",
    "\n",
    "* An iterator is an object that keeps track of where you are in a sequence.\n",
    "\n",
    "* It gives elements one by one when you call next().\n",
    "\n",
    "* Created by using iter() on an iterable.\n",
    "\n",
    "* An iterator must have two methods:\n",
    "\n",
    "- __iter__() → returns the iterator object itself\n",
    "\n",
    "- __next__() → returns the next value, or raises StopIteration when finished"
   ]
  },
  {
   "cell_type": "code",
   "execution_count": 1,
   "id": "9d810f64",
   "metadata": {},
   "outputs": [
    {
     "name": "stdout",
     "output_type": "stream",
     "text": [
      "1\n",
      "2\n",
      "3\n",
      "4\n"
     ]
    }
   ],
   "source": [
    "nums = [1, 2, 3, 4]   # iterable\n",
    "it = iter(nums)       # iterator\n",
    "\n",
    "print(next(it))  # 1\n",
    "print(next(it))  # 2\n",
    "print(next(it))  # 3\n",
    "print(next(it))  # 4\n",
    "# next(it) → StopIteration\n"
   ]
  },
  {
   "cell_type": "code",
   "execution_count": null,
   "id": "5c076465",
   "metadata": {},
   "outputs": [],
   "source": []
  }
 ],
 "metadata": {
  "kernelspec": {
   "display_name": "Python 3",
   "language": "python",
   "name": "python3"
  },
  "language_info": {
   "codemirror_mode": {
    "name": "ipython",
    "version": 3
   },
   "file_extension": ".py",
   "mimetype": "text/x-python",
   "name": "python",
   "nbconvert_exporter": "python",
   "pygments_lexer": "ipython3",
   "version": "3.10.11"
  }
 },
 "nbformat": 4,
 "nbformat_minor": 5
}
