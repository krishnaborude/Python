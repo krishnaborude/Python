{
 "cells": [
  {
   "cell_type": "markdown",
   "id": "2cc67c16",
   "metadata": {},
   "source": [
    "Create a list [10, 20, 30, 40, 50], make an iterator, and print all elements using next().\n",
    "\n",
    "Convert the string \"HELLO\" into an iterator and print each character using next().\n",
    "\n",
    "Make a tuple (1, 3, 5, 7, 9) an iterator and access the first three elements with next().\n",
    "\n",
    "Create a list of fruits [\"apple\", \"banana\", \"mango\", \"orange\"], and print them one by one using iter() and next().\n",
    "\n",
    "Use an iterator to get the first 4 characters from the string \"Python\".\n",
    "\n",
    "Create a set {2, 4, 6, 8, 10} and print all its elements using next() (note: order may vary).\n",
    "\n",
    "Convert the range range(5, 15) into an iterator and use next() to print the first 5 numbers.\n",
    "\n",
    "Make a dictionary {\"a\": 1, \"b\": 2, \"c\": 3}, create an iterator on its keys, and print them using next().\n",
    "\n",
    "Create an iterator from the list [100, 200, 300, 400]. Use next() 2 times, then use a loop to print the remaining elements.\n",
    "\n",
    "Use iter() and next() on the string \"iteration\". Print characters until the iterator is exhausted, and then handle the StopIteration error with a try-except block."
   ]
  },
  {
   "cell_type": "code",
   "execution_count": 1,
   "id": "b8d743fe",
   "metadata": {},
   "outputs": [
    {
     "name": "stdout",
     "output_type": "stream",
     "text": [
      "10\n",
      "20\n",
      "30\n",
      "40\n",
      "50\n"
     ]
    }
   ],
   "source": [
    "# Create a list [10, 20, 30, 40, 50], make an iterator, and print all elements using next().\n",
    "\n",
    "from sys import getsizeof\n",
    "my_list = [10, 20, 30, 40, 50]\n",
    "my_iter = iter(my_list)\n",
    "\n",
    "print(next(my_iter))\n",
    "print(next(my_iter))\n",
    "print(next(my_iter))\n",
    "print(next(my_iter))\n",
    "print(next(my_iter))"
   ]
  },
  {
   "cell_type": "code",
   "execution_count": 2,
   "id": "a0178c73",
   "metadata": {},
   "outputs": [
    {
     "name": "stdout",
     "output_type": "stream",
     "text": [
      "H\n",
      "E\n",
      "L\n",
      "L\n",
      "O\n"
     ]
    }
   ],
   "source": [
    "# Convert the string \"HELLO\" into an iterator and print each character using next().\n",
    "\n",
    "my_string = \"HELLO\"\n",
    "my_iter = iter(my_string)\n",
    "\n",
    "print(next(my_iter))\n",
    "print(next(my_iter))\n",
    "print(next(my_iter))\n",
    "print(next(my_iter))\n",
    "print(next(my_iter))"
   ]
  },
  {
   "cell_type": "code",
   "execution_count": 4,
   "id": "0d47f4eb",
   "metadata": {},
   "outputs": [
    {
     "name": "stdout",
     "output_type": "stream",
     "text": [
      "1\n",
      "3\n",
      "5\n",
      "7\n",
      "9\n"
     ]
    }
   ],
   "source": [
    "# Make a tuple (1, 3, 5, 7, 9) an iterator and access the first three elements with next().\n",
    "\n",
    "my_tuple = (1, 3, 5, 7, 9)\n",
    "my_iter = iter(my_tuple)\n",
    "\n",
    "print(next(my_iter))\n",
    "print(next(my_iter))\n",
    "print(next(my_iter))\n",
    "print(next(my_iter))\n",
    "print(next(my_iter))\n"
   ]
  },
  {
   "cell_type": "code",
   "execution_count": 5,
   "id": "3cd31b1b",
   "metadata": {},
   "outputs": [
    {
     "name": "stdout",
     "output_type": "stream",
     "text": [
      "apple\n",
      "banana\n",
      "mango\n",
      "orange\n"
     ]
    }
   ],
   "source": [
    "# Create a list of fruits [\"apple\", \"banana\", \"mango\", \"orange\"], and print them one by one using iter() and next().\n",
    "\n",
    "fruits = [\"apple\", \"banana\", \"mango\", \"orange\"]\n",
    "fruit_iter = iter(fruits)\n",
    "\n",
    "print(next(fruit_iter))\n",
    "print(next(fruit_iter))\n",
    "print(next(fruit_iter))\n",
    "print(next(fruit_iter))\n"
   ]
  },
  {
   "cell_type": "code",
   "execution_count": 6,
   "id": "a7d33f16",
   "metadata": {},
   "outputs": [
    {
     "name": "stdout",
     "output_type": "stream",
     "text": [
      "P\n",
      "y\n",
      "t\n",
      "h\n"
     ]
    }
   ],
   "source": [
    "# Use an iterator to get the first 4 characters from the string \"Python\".\n",
    "my_string = \"Python\"\n",
    "my_iter = iter(my_string)\n",
    "print(next(my_iter))\n",
    "print(next(my_iter))\n",
    "print(next(my_iter))\n",
    "print(next(my_iter))"
   ]
  },
  {
   "cell_type": "code",
   "execution_count": 7,
   "id": "cbc1ea8d",
   "metadata": {},
   "outputs": [
    {
     "name": "stdout",
     "output_type": "stream",
     "text": [
      "2\n",
      "4\n",
      "6\n",
      "8\n",
      "10\n"
     ]
    }
   ],
   "source": [
    "# Create a set {2, 4, 6, 8, 10} and print all its elements using next() (note: order may vary).\n",
    "my_set = {2, 4, 6, 8, 10}\n",
    "set_iter = iter(my_set)\n",
    "\n",
    "print(next(set_iter))\n",
    "print(next(set_iter))\n",
    "print(next(set_iter))\n",
    "print(next(set_iter))\n",
    "print(next(set_iter))"
   ]
  },
  {
   "cell_type": "code",
   "execution_count": 9,
   "id": "3a338a18",
   "metadata": {},
   "outputs": [
    {
     "name": "stdout",
     "output_type": "stream",
     "text": [
      "a\n",
      "b\n",
      "c\n"
     ]
    }
   ],
   "source": [
    "# Make a dictionary {\"a\": 1, \"b\": 2, \"c\": 3}, create an iterator on its keys, and print them using next().\n",
    "my_dict = {\"a\": 1, \"b\": 2, \"c\": 3}\n",
    "dict_iter = iter(my_dict)\n",
    "print(next(dict_iter))\n",
    "print(next(dict_iter))\n",
    "print(next(dict_iter))"
   ]
  },
  {
   "cell_type": "code",
   "execution_count": 10,
   "id": "5e222c8d",
   "metadata": {},
   "outputs": [
    {
     "name": "stdout",
     "output_type": "stream",
     "text": [
      "5\n",
      "6\n",
      "7\n",
      "8\n",
      "9\n"
     ]
    }
   ],
   "source": [
    "# Convert the range range(5, 15) into an iterator and use next() to print the first 5 numbers.\n",
    "range_iter = iter(range(5, 15))\n",
    "print(next(range_iter))\n",
    "print(next(range_iter))\n",
    "print(next(range_iter))\n",
    "print(next(range_iter))\n",
    "print(next(range_iter))"
   ]
  },
  {
   "cell_type": "code",
   "execution_count": 11,
   "id": "7d4160de",
   "metadata": {},
   "outputs": [
    {
     "name": "stdout",
     "output_type": "stream",
     "text": [
      "100\n",
      "200\n",
      "300\n",
      "400\n"
     ]
    }
   ],
   "source": [
    "# Create an iterator from the list [100, 200, 300, 400]. Use next() 2 times, then use a loop to print the remaining elements.\n",
    "my_list = [100, 200, 300, 400]\n",
    "my_iter = iter(my_list)\n",
    "print(next(my_iter))\n",
    "print(next(my_iter))\n",
    "for item in my_iter:\n",
    "    print(item)"
   ]
  },
  {
   "cell_type": "code",
   "execution_count": 12,
   "id": "5463cc84",
   "metadata": {},
   "outputs": [
    {
     "name": "stdout",
     "output_type": "stream",
     "text": [
      "i\n",
      "t\n",
      "e\n",
      "r\n",
      "a\n",
      "t\n",
      "i\n",
      "o\n",
      "n\n"
     ]
    }
   ],
   "source": [
    "# Use iter() and next() on the string \"iteration\". Print characters until the iterator is exhausted, and then handle the StopIteration error with a try-except block.\n",
    "my_string = \"iteration\"\n",
    "my_iter = iter(my_string)   \n",
    "while True:\n",
    "    try:\n",
    "        print(next(my_iter))\n",
    "    except StopIteration:\n",
    "        break"
   ]
  },
  {
   "cell_type": "code",
   "execution_count": null,
   "id": "a45a6c31",
   "metadata": {},
   "outputs": [],
   "source": []
  }
 ],
 "metadata": {
  "kernelspec": {
   "display_name": "Python 3",
   "language": "python",
   "name": "python3"
  },
  "language_info": {
   "codemirror_mode": {
    "name": "ipython",
    "version": 3
   },
   "file_extension": ".py",
   "mimetype": "text/x-python",
   "name": "python",
   "nbconvert_exporter": "python",
   "pygments_lexer": "ipython3",
   "version": "3.10.11"
  }
 },
 "nbformat": 4,
 "nbformat_minor": 5
}
