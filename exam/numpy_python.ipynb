{
 "cells": [
  {
   "cell_type": "markdown",
   "id": "e012898a",
   "metadata": {},
   "source": [
    "#  Python & NumPy – Question Paper (50 Marks)\n",
    "\n",
    "### Section A – Multiple Choice Questions\n",
    "\n",
    "(10 × 1 = 10 Marks)\n",
    "\n",
    "(Answer all questions)\n",
    "\n",
    "1. Which of the following is used to install NumPy in Python?\n",
    "\n",
    "a) import numpy\n",
    "\n",
    "✅b) pip install numpy\n",
    "\n",
    "c) NumPy.install()\n",
    "\n",
    "d) python -numpy\n",
    "\n",
    "2. What is the default data type of NumPy array elements if not specified?\n",
    "\n",
    "✅a) float64\n",
    "\n",
    "b) int64\n",
    "\n",
    "c) object\n",
    "\n",
    "d) string\n",
    "\n",
    "3. Which method is used to find the shape of a NumPy array?\n",
    "\n",
    "a) arr.size\n",
    "\n",
    "b) arr.ndim\n",
    "\n",
    "✅c) arr.shape\n",
    "\n",
    "d) arr.length()\n",
    "\n",
    "4. Which of the following is not a feature of NumPy?\n",
    "\n",
    "a) Broadcasting\n",
    "\n",
    "b) Fast mathematical operations\n",
    "\n",
    "✅c) Database connectivity\n",
    "\n",
    "d) Multidimensional arrays\n",
    "\n",
    "\n",
    "5. In Python, which keyword is used to define a function?\n",
    "\n",
    "a) func\n",
    "\n",
    "b) define\n",
    "\n",
    "✅c) def\n",
    "\n",
    "d) function\n",
    "\n",
    "6. Which NumPy function is used to generate an array of evenly spaced numbers?\n",
    "\n",
    "a) numpy.linspace()\n",
    "\n",
    "b) numpy.arange()\n",
    "\n",
    "\n",
    "✅c) Both (a) and (b)\n",
    "\n",
    "d) None of these\n",
    "\n",
    "\n",
    "7. What will np.eye(3) produce?\n",
    "\n",
    "✅a) Identity matrix of order 3\n",
    "\n",
    "b) 3 × 3 matrix of zeros\n",
    "\n",
    "c) 3 × 3 diagonal matrix with all elements = 3\n",
    "\n",
    "d) Error\n",
    "\n",
    "\n",
    "8. Which operator is used for element-wise multiplication in NumPy arrays?\n",
    "\n",
    "✅a) *\n",
    "\n",
    "b) @\n",
    "\n",
    "c) .dot()\n",
    "\n",
    "d) /\n",
    "\n",
    "9. In Python, which of the following is a mutable data type?\n",
    "\n",
    "a) Tuple\n",
    "\n",
    "b) String\n",
    "\n",
    "✅c) List\n",
    "\n",
    "d) Integer\n",
    "\n",
    "10. Which function converts a Python list into a NumPy array?\n",
    "\n",
    "a) np.asarray()\n",
    "\n",
    "b) np.convert()\n",
    "\n",
    "c) np.arraylist()\n",
    "\n",
    "✅d) np.array()\n",
    "\n"
   ]
  },
  {
   "cell_type": "markdown",
   "id": "0ea942e3",
   "metadata": {},
   "source": [
    "### Section B - Short Notes\n",
    "\n",
    "(2 x 5 = 10 Marks)\n",
    "\n",
    "(Answer any two)"
   ]
  },
  {
   "cell_type": "markdown",
   "id": "d7c23b22",
   "metadata": {},
   "source": [
    "1. Explain broadcasting in NumPy with an example.\n",
    "\n",
    "Broadcasting is the ability of NumPy to perform operations on arrays of different shapes. Smaller arrays are stretched to match the shape of the larger array without actually copying data."
   ]
  },
  {
   "cell_type": "code",
   "execution_count": 15,
   "id": "3659cc37",
   "metadata": {},
   "outputs": [
    {
     "name": "stdout",
     "output_type": "stream",
     "text": [
      "[3 4 5]\n"
     ]
    }
   ],
   "source": [
    "import numpy as np\n",
    "a = np.array([1, 2, 3])\n",
    "b = 2\n",
    "print(a + b)   # [3 4 5]\n"
   ]
  },
  {
   "cell_type": "markdown",
   "id": "75110a2c",
   "metadata": {},
   "source": [
    "Here, 2 is broadcasted to [2, 2, 2]."
   ]
  },
  {
   "cell_type": "markdown",
   "id": "900342bf",
   "metadata": {},
   "source": [
    "2. Difference between Python lists and NumPy arrays."
   ]
  },
  {
   "cell_type": "markdown",
   "id": "b096d33d",
   "metadata": {},
   "source": [
    "| Feature    | Python List               | NumPy Array                        |\n",
    "| ---------- | ------------------------- | ---------------------------------- |\n",
    "| Data type  | Can store different types | Stores only one type (homogeneous) |\n",
    "| Speed      | Slower                    | Much faster (C-based)              |\n",
    "| Operations | Element by element        | Vectorized, element-wise           |\n",
    "| Memory     | Higher                    | Lower, more efficient              |\n"
   ]
  },
  {
   "cell_type": "markdown",
   "id": "b5ef3b3d",
   "metadata": {},
   "source": [
    "3. Slicing in NumPy arrays with examples.\n",
    "\n",
    "Slicing allows extracting parts of an array."
   ]
  },
  {
   "cell_type": "code",
   "execution_count": 16,
   "id": "2f9c4acb",
   "metadata": {},
   "outputs": [
    {
     "name": "stdout",
     "output_type": "stream",
     "text": [
      "[20 30 40]\n",
      "[10 20 30]\n",
      "[10 30 50]\n"
     ]
    }
   ],
   "source": [
    "import numpy as np\n",
    "arr = np.array([10, 20, 30, 40, 50])\n",
    "print(arr[1:4])     # [20 30 40]\n",
    "print(arr[:3])      # [10 20 30]\n",
    "print(arr[::2])     # [10 30 50]"
   ]
  },
  {
   "cell_type": "markdown",
   "id": "f5c4534c",
   "metadata": {},
   "source": [
    "4. Python functions with default arguments.\n",
    "\n",
    "Default arguments allow parameters to have default values."
   ]
  },
  {
   "cell_type": "code",
   "execution_count": 17,
   "id": "2a6a9ea6",
   "metadata": {},
   "outputs": [
    {
     "name": "stdout",
     "output_type": "stream",
     "text": [
      "Hello User\n",
      "Hello Krish\n"
     ]
    }
   ],
   "source": [
    "def greet(name=\"User\"):\n",
    "    print(\"Hello\", name)\n",
    "\n",
    "greet()       # Hello User\n",
    "greet(\"Krish\") # Hello Krish\n"
   ]
  },
  {
   "cell_type": "markdown",
   "id": "463f7add",
   "metadata": {},
   "source": [
    "5. NumPy statistical functions (mean, median, std)."
   ]
  },
  {
   "cell_type": "code",
   "execution_count": 18,
   "id": "42dfe815",
   "metadata": {},
   "outputs": [
    {
     "name": "stdout",
     "output_type": "stream",
     "text": [
      "3.0\n",
      "3.0\n",
      "1.4142135623730951\n"
     ]
    }
   ],
   "source": [
    "import numpy as np\n",
    "arr = np.array([1, 2, 3, 4, 5])\n",
    "print(np.mean(arr))   # 3.0\n",
    "print(np.median(arr)) # 3.0\n",
    "print(np.std(arr))    # 1.4142"
   ]
  },
  {
   "cell_type": "markdown",
   "id": "ac00cb11",
   "metadata": {},
   "source": [
    "### Section C – Descriptive Questions\n",
    "\n",
    "1. Create a NumPy array of size 10 filled with zeros."
   ]
  },
  {
   "cell_type": "code",
   "execution_count": 19,
   "id": "ee0fb57a",
   "metadata": {},
   "outputs": [
    {
     "name": "stdout",
     "output_type": "stream",
     "text": [
      "[0. 0. 0. 0. 0. 0. 0. 0. 0. 0.]\n"
     ]
    }
   ],
   "source": [
    "import numpy as np\n",
    "arr = np.zeros(10)\n",
    "print(arr)"
   ]
  },
  {
   "cell_type": "markdown",
   "id": "85efccc6",
   "metadata": {},
   "source": [
    "2. Reverse a list without using built-in reverse."
   ]
  },
  {
   "cell_type": "code",
   "execution_count": 20,
   "id": "c208817b",
   "metadata": {},
   "outputs": [
    {
     "name": "stdout",
     "output_type": "stream",
     "text": [
      "[5, 4, 3, 2, 1]\n"
     ]
    }
   ],
   "source": [
    "lst = [1, 2, 3, 4, 5]\n",
    "print(lst[::-1])"
   ]
  },
  {
   "cell_type": "markdown",
   "id": "dc5732c0",
   "metadata": {},
   "source": [
    "3. Generate a 1D NumPy array of numbers from 10 to 50 with step size 5."
   ]
  },
  {
   "cell_type": "code",
   "execution_count": 21,
   "id": "821df4e8",
   "metadata": {},
   "outputs": [
    {
     "name": "stdout",
     "output_type": "stream",
     "text": [
      "[10 15 20 25 30 35 40 45 50]\n"
     ]
    }
   ],
   "source": [
    "arr = np.arange(10, 51, 5)\n",
    "print(arr)  # [10 15 20 25 30 35 40 45 50]"
   ]
  },
  {
   "cell_type": "markdown",
   "id": "ae509227",
   "metadata": {},
   "source": [
    "4. Difference between np.zeros() and np.ones().\n",
    "\n",
    "* np.zeros(n) → array filled with 0s\n",
    "\n",
    "* np.ones(n) → array filled with 1s"
   ]
  },
  {
   "cell_type": "code",
   "execution_count": 22,
   "id": "c9f5ad3b",
   "metadata": {},
   "outputs": [
    {
     "name": "stdout",
     "output_type": "stream",
     "text": [
      "[0. 0. 0.]\n",
      "[1. 1. 1.]\n"
     ]
    }
   ],
   "source": [
    "print(np.zeros(3)) # [0. 0. 0.]\n",
    "print(np.ones(3))  # [1. 1. 1.]\n"
   ]
  },
  {
   "cell_type": "markdown",
   "id": "603a2598",
   "metadata": {},
   "source": [
    "5. Python function to check if a number is prime."
   ]
  },
  {
   "cell_type": "code",
   "execution_count": 23,
   "id": "bedffa6d",
   "metadata": {},
   "outputs": [
    {
     "name": "stdout",
     "output_type": "stream",
     "text": [
      "True\n"
     ]
    }
   ],
   "source": [
    "def is_prime(n):\n",
    "    if n < 2:\n",
    "        return False\n",
    "    for i in range(2, int(n**0.5) + 1):\n",
    "        if n % i == 0:\n",
    "            return False\n",
    "    return True\n",
    "\n",
    "print(is_prime(7))  # True\n"
   ]
  },
  {
   "cell_type": "markdown",
   "id": "22ac180f",
   "metadata": {},
   "source": [
    "6. Difference between arr.reshape() and arr.resize().\n",
    "\n",
    "* reshape() → returns a new array with the given shape (does not modify original).\n",
    "\n",
    "* resize() → modifies the original array in place."
   ]
  },
  {
   "cell_type": "markdown",
   "id": "11ec3af4",
   "metadata": {},
   "source": [
    "7. NumPy code to create a 3×3 identity matrix, and arr.ravel()."
   ]
  },
  {
   "cell_type": "code",
   "execution_count": 24,
   "id": "604bb278",
   "metadata": {},
   "outputs": [
    {
     "name": "stdout",
     "output_type": "stream",
     "text": [
      "[[1. 0. 0.]\n",
      " [0. 1. 0.]\n",
      " [0. 0. 1.]]\n",
      "[1 2 3 4]\n"
     ]
    }
   ],
   "source": [
    "arr = np.eye(3)\n",
    "print(arr)\n",
    "\n",
    "a = np.array([[1,2],[3,4]])\n",
    "print(a.ravel())   # [1 2 3 4]\n"
   ]
  },
  {
   "cell_type": "markdown",
   "id": "cb5efd6b",
   "metadata": {},
   "source": [
    "8. Difference between arr.flatten() and arr.ravel().\n",
    "\n",
    "* flatten() → returns a copy of the array.\n",
    "\n",
    "* ravel() → returns a view (changes affect original)."
   ]
  },
  {
   "cell_type": "code",
   "execution_count": 25,
   "id": "149b6d87",
   "metadata": {},
   "outputs": [
    {
     "name": "stdout",
     "output_type": "stream",
     "text": [
      "[1 2 3 4]\n",
      "[1 2 3 4]\n"
     ]
    }
   ],
   "source": [
    "a = np.array([[1,2],[3,4]])\n",
    "print(a.flatten())  # [1 2 3 4] (copy)\n",
    "print(a.ravel())    # [1 2 3 4] (view)"
   ]
  },
  {
   "cell_type": "markdown",
   "id": "7ae4308c",
   "metadata": {},
   "source": [
    "9. Python code to swap two variables without using a temporary variable."
   ]
  },
  {
   "cell_type": "code",
   "execution_count": 26,
   "id": "14e43067",
   "metadata": {},
   "outputs": [
    {
     "name": "stdout",
     "output_type": "stream",
     "text": [
      "10 5\n"
     ]
    }
   ],
   "source": [
    "a, b = 5, 10\n",
    "a, b = b, a\n",
    "print(a, b)  # 10 5"
   ]
  },
  {
   "cell_type": "markdown",
   "id": "99891c91",
   "metadata": {},
   "source": [
    "10. Create two 2D arrays and perform matrix multiplication using NumPy."
   ]
  },
  {
   "cell_type": "code",
   "execution_count": 27,
   "id": "e3b67055",
   "metadata": {},
   "outputs": [
    {
     "name": "stdout",
     "output_type": "stream",
     "text": [
      "[[19 22]\n",
      " [43 50]]\n"
     ]
    }
   ],
   "source": [
    "A = np.array([[1, 2],\n",
    "              [3, 4]])\n",
    "B = np.array([[5, 6],\n",
    "              [7, 8]])\n",
    "C = np.dot(A, B)\n",
    "print(C)"
   ]
  }
 ],
 "metadata": {
  "kernelspec": {
   "display_name": "Python 3",
   "language": "python",
   "name": "python3"
  },
  "language_info": {
   "codemirror_mode": {
    "name": "ipython",
    "version": 3
   },
   "file_extension": ".py",
   "mimetype": "text/x-python",
   "name": "python",
   "nbconvert_exporter": "python",
   "pygments_lexer": "ipython3",
   "version": "3.10.11"
  }
 },
 "nbformat": 4,
 "nbformat_minor": 5
}
