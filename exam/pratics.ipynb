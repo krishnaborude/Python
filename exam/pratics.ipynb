{
 "cells": [
  {
   "cell_type": "markdown",
   "id": "37599e72",
   "metadata": {},
   "source": [
    "Question 1:\n",
    "Write a function that takes a list of integers and returns the second largest number in the list.\n",
    "\n",
    "\n",
    "Example input: [3, 1, 4, 5, 2]\n",
    "Expected output: 4"
   ]
  },
  {
   "cell_type": "code",
   "execution_count": 17,
   "id": "e3cedc34",
   "metadata": {},
   "outputs": [
    {
     "name": "stdout",
     "output_type": "stream",
     "text": [
      "4\n"
     ]
    }
   ],
   "source": [
    "list1 = [3, 4, 1, 4, 2, 5]\n",
    "list_unique = list(set(list1))\n",
    "list_sorted = sorted(list_unique)\n",
    "print(list_sorted[-2])\n"
   ]
  },
  {
   "cell_type": "markdown",
   "id": "67be21c4",
   "metadata": {},
   "source": [
    "Question 2:\n",
    "Write a function that checks if a given string is a palindrome (reads the same forwards and backwards), ignoring case and spaces.\n",
    "\n",
    "\n",
    "Example Input: \"Race car\"\n",
    "\n",
    "Expected Output: True"
   ]
  },
  {
   "cell_type": "code",
   "execution_count": 18,
   "id": "d331fd62",
   "metadata": {},
   "outputs": [
    {
     "name": "stdout",
     "output_type": "stream",
     "text": [
      "is palindrome\n"
     ]
    }
   ],
   "source": [
    "str1 = 'Race car'\n",
    "remove_spaces = str1.replace(\" \", \"\")\n",
    "lower_case = remove_spaces.lower()\n",
    "if lower_case == lower_case[::-1]:\n",
    "    print(\"is palindrome\")\n",
    "else:\n",
    "    print(\"is not palindrome\")\n"
   ]
  },
  {
   "cell_type": "markdown",
   "id": "818f3fbe",
   "metadata": {},
   "source": [
    "Question 3:\n",
    "\n",
    "Write a function that takes an integer n and returns the sum of all even numbers from 1 to n (inclusive).\n",
    "\n",
    "Example Input: n = 10\n",
    "\n",
    "Expected Output: 30 (because 2 + 4 + 6 + 8 + 10 = 30)"
   ]
  },
  {
   "cell_type": "code",
   "execution_count": 19,
   "id": "6158a455",
   "metadata": {},
   "outputs": [
    {
     "name": "stdout",
     "output_type": "stream",
     "text": [
      "30\n"
     ]
    }
   ],
   "source": [
    "n = 10\n",
    "total = 0\n",
    "for i in range(1, n + 1):\n",
    "    if i % 2 == 0:\n",
    "        total += i\n",
    "print(total)\n"
   ]
  },
  {
   "cell_type": "markdown",
   "id": "d6123865",
   "metadata": {},
   "source": [
    "Question 4:\n",
    "\n",
    "Write a function that takes a list of numbers and returns a new list with only the prime numbers from the original list.\n",
    "\n",
    "Example Input: [2, 4, 5, 6, 7, 9, 11]\n",
    "\n",
    "Expected Output: [2, 5, 7, 11]"
   ]
  },
  {
   "cell_type": "code",
   "execution_count": 20,
   "id": "46ed822a",
   "metadata": {},
   "outputs": [
    {
     "name": "stdout",
     "output_type": "stream",
     "text": [
      "[2, 3, 5, 7]\n"
     ]
    }
   ],
   "source": [
    "def is_prime(prime_list):\n",
    "    prime_numbers = []\n",
    "    for i in prime_list:\n",
    "        if i < 2:\n",
    "            continue\n",
    "        is_prime = True\n",
    "        for j in range(2, int(i ** 0.5) + 1):\n",
    "            if i % j == 0:\n",
    "                is_prime = False\n",
    "                break\n",
    "        if is_prime:\n",
    "            prime_numbers.append(i)\n",
    "    return prime_numbers\n",
    "\n",
    "print(is_prime([1, 2, 3, 4, 5, 6, 7, 8, 9, 10, 26, 328, 3628, 326, 35]))\n"
   ]
  },
  {
   "cell_type": "markdown",
   "id": "7c70a502",
   "metadata": {},
   "source": [
    "Question 5:\n",
    "\n",
    "Write a function that takes a string and returns a dictionary with each character as the key and the number of times it appears in the string as the value.\n",
    "\n",
    "Example Input: \"hello\"\n",
    "\n",
    "Expected Output: {'h': 1, 'e': 1, 'l': 2, 'o': 1}"
   ]
  },
  {
   "cell_type": "code",
   "execution_count": 21,
   "id": "fcf06864",
   "metadata": {},
   "outputs": [
    {
     "name": "stdout",
     "output_type": "stream",
     "text": [
      "{'k': 1, 'r': 2, 'i': 1, 's': 1, 'h': 1, 'n': 1, 'a': 1, ' ': 1, 'b': 1, 'o': 1, 'u': 1, 'd': 1, 'e': 1}\n"
     ]
    }
   ],
   "source": [
    "def char_dict(string1):\n",
    "    dict1 = {}\n",
    "    lower_case = string1.lower()\n",
    "    for i in lower_case:\n",
    "        if i in dict1:\n",
    "            dict1[i] += 1\n",
    "        else:\n",
    "            dict1[i] = 1\n",
    "    return dict1\n",
    "\n",
    "print(char_dict('Krishna Borude'))\n"
   ]
  },
  {
   "cell_type": "markdown",
   "id": "bda77325",
   "metadata": {},
   "source": [
    "Question 6:\n",
    "Write a function that takes a list of integers and returns a list with only the numbers that are divisible by both 3 and 5.\n",
    "\n",
    "Example Input: [10, 15, 20, 30, 33, 45]\n",
    "Expected Output: [15, 30, 45]"
   ]
  },
  {
   "cell_type": "code",
   "execution_count": 1,
   "id": "fbc6ebfe",
   "metadata": {},
   "outputs": [
    {
     "data": {
      "text/plain": [
       "[45, 15, 45]"
      ]
     },
     "execution_count": 1,
     "metadata": {},
     "output_type": "execute_result"
    }
   ],
   "source": [
    "def divisible_3_and_5(list1):\n",
    "    list2 = []\n",
    "    for i in list1:\n",
    "        if i %3 ==0 and i % 5 == 0:\n",
    "            list2.append(i)\n",
    "    return list2\n",
    "divisible_3_and_5([1,3,3,45,32,234,21,43,320,5,4,24,54,15,45,25,256,64,35])"
   ]
  },
  {
   "cell_type": "markdown",
   "id": "165285e6",
   "metadata": {},
   "source": [
    "Question 7 (Intermediate):\n",
    "Write a function that takes a list of integers and returns True if any two numbers in the list add up to a given target number, else returns False.\n",
    "\n",
    "Example Input:\n",
    "nums = [2, 7, 11, 15], target = 9\n",
    "Expected Output: True\n",
    "(because 2 + 7 = 9)"
   ]
  },
  {
   "cell_type": "code",
   "execution_count": 12,
   "id": "5a3985d0",
   "metadata": {},
   "outputs": [
    {
     "name": "stdout",
     "output_type": "stream",
     "text": [
      "True\n",
      "False\n"
     ]
    }
   ],
   "source": [
    "def target_number_add(mylist, target):\n",
    "    seen = set()\n",
    "    for num in mylist:\n",
    "        if target - num in seen:\n",
    "            return True\n",
    "        seen.add(num)\n",
    "    return False\n",
    "\n",
    "# Testing\n",
    "print(target_number_add([4, 5, 2, 7], 9))   # True\n",
    "print(target_number_add([4], 8))  # False\n"
   ]
  },
  {
   "cell_type": "markdown",
   "id": "b131fb39",
   "metadata": {},
   "source": [
    "Question 8 (Intermediate):\n",
    "Write a function that takes a list of integers and returns a new list with the running sum.\n",
    "The running sum at index i is the sum of all elements from index 0 to i.\n",
    "\n",
    "Example Input:\n",
    "[1, 2, 3, 4]\n",
    "Expected Output:\n",
    "[1, 3, 6, 10]\n",
    "(because 1, 1+2, 1+2+3, 1+2+3+4)"
   ]
  },
  {
   "cell_type": "code",
   "execution_count": null,
   "id": "703f0f80",
   "metadata": {},
   "outputs": [
    {
     "data": {
      "text/plain": [
       "[0, 1, 3, 6]"
      ]
     },
     "execution_count": 16,
     "metadata": {},
     "output_type": "execute_result"
    }
   ],
   "source": [
    "def all_number_add(list1):\n",
    "    output_list = []\n",
    "    count = 0\n",
    "    for value in list1:     \n",
    "        count += value\n",
    "        output_list.append(count)\n",
    "    return output_list\n",
    "\n",
    "print(all_number_add([1, 3, 1, 3]))  \n"
   ]
  },
  {
   "cell_type": "markdown",
   "id": "f8af1e03",
   "metadata": {},
   "source": [
    "Question 9 (Intermediate/Challenging):\n",
    "\n",
    "Write a function that takes a list of integers and removes all duplicates without using set() — while preserving the original order.\n",
    "\n",
    "Example Input:\n",
    "[1, 2, 2, 3, 1, 4, 3]\n",
    "\n",
    "Expected Output:\n",
    "[1, 2, 3, 4]"
   ]
  },
  {
   "cell_type": "code",
   "execution_count": null,
   "id": "6ac50d1f",
   "metadata": {},
   "outputs": [
    {
     "data": {
      "text/plain": [
       "[1, 2, 3, 4]"
      ]
     },
     "execution_count": 22,
     "metadata": {},
     "output_type": "execute_result"
    }
   ],
   "source": [
    "def set_function(mylist):\n",
    "    output_list = []\n",
    "    for i in mylist:\n",
    "        if i not in output_list:\n",
    "            output_list.append(i)\n",
    "    return output_list\n",
    "\n",
    "set_function([1, 2, 2, 3, 3, 4, 2, 3])"
   ]
  },
  {
   "cell_type": "markdown",
   "id": "7931b410",
   "metadata": {},
   "source": [
    "Question 10 (Challenging):\n",
    "\n",
    "Write a function that takes a string and returns True if the string is a pangram, else False.\n",
    "A pangram is a sentence that contains every letter of the English alphabet at least once, ignoring case and punctuation.\n",
    "\n",
    "Example Input:\n",
    "\"The quick brown fox jumps over the lazy dog\"\n",
    "\n",
    "Expected Output:\n",
    "True"
   ]
  },
  {
   "cell_type": "code",
   "execution_count": null,
   "id": "aed854a6",
   "metadata": {},
   "outputs": [
    {
     "name": "stdout",
     "output_type": "stream",
     "text": [
      "False\n"
     ]
    }
   ],
   "source": [
    "def is_pangram(sentence):\n",
    "    sentence = sentence.lower()\n",
    "    alphabet = 'abcdefghijklmnopqrstuvwxyz'\n",
    "    for letter in alphabet:\n",
    "        if letter not in sentence:\n",
    "            return False\n",
    "    return True\n",
    "\n",
    "print(is_pangram(\"The quick brown fox jumps over the\"))"
   ]
  },
  {
   "cell_type": "markdown",
   "id": "bb9c083d",
   "metadata": {},
   "source": [
    "Question 11 (Challenging – Grouping by Character Frequency):\n",
    "\n",
    "Write a function that takes a string and returns a dictionary where the keys are the characters, and the values are lists of all the indices where that character appears in the string.\n",
    "\n",
    "Example Input:\n",
    "\n",
    "\"banana\"\n",
    "\n",
    "Expected Output:\n",
    "\n",
    "\n",
    "python\n",
    "Copy\n",
    "Edit\n",
    "{\n",
    "  'b': [0],\n",
    "  'a': [1, 3, 5],\n",
    "  'n': [2, 4]\n",
    "}"
   ]
  },
  {
   "cell_type": "code",
   "execution_count": 24,
   "id": "4b758121",
   "metadata": {},
   "outputs": [
    {
     "name": "stdout",
     "output_type": "stream",
     "text": [
      "{'b': [0], 'a': [1, 3, 5], 'n': [2, 4]}\n"
     ]
    }
   ],
   "source": [
    "def char_indices(s):\n",
    "    result = {}\n",
    "    for index in range(len(s)):\n",
    "        char = s[index]\n",
    "        if char in result:\n",
    "            result[char].append(index)\n",
    "        else:\n",
    "            result[char] = [index]\n",
    "    return result\n",
    "\n",
    "print(char_indices(\"banana\"))\n"
   ]
  },
  {
   "cell_type": "markdown",
   "id": "7b0d7ebb",
   "metadata": {},
   "source": [
    "Question 12 (Challenging – Recursion):\n",
    "\n",
    "Write a recursive function to calculate the factorial of a given number n.\n",
    "\n",
    "Example Input: 5\n",
    "\n",
    "Expected Output: 120 (because 5 × 4 × 3 × 2 × 1 = 120)"
   ]
  },
  {
   "cell_type": "code",
   "execution_count": 31,
   "id": "ec185f43",
   "metadata": {},
   "outputs": [
    {
     "data": {
      "text/plain": [
       "120"
      ]
     },
     "execution_count": 31,
     "metadata": {},
     "output_type": "execute_result"
    }
   ],
   "source": [
    "def fact(n):\n",
    "    if n == 0 :\n",
    "        return 1\n",
    "    return n * fact(n-1)\n",
    "fact(5)\n"
   ]
  },
  {
   "cell_type": "markdown",
   "id": "7428018b",
   "metadata": {},
   "source": [
    "Question 13 (Challenging – Recursive String Reversal):\n",
    "\n",
    "Write a recursive function that takes a string and returns the reversed version of that string.\n",
    "\n",
    "Example Input:\n",
    "\"krish\"\n",
    "\n",
    "Expected Output:\n",
    "\"hsirk\""
   ]
  },
  {
   "cell_type": "code",
   "execution_count": null,
   "id": "c9e3aabe",
   "metadata": {},
   "outputs": [
    {
     "data": {
      "text/plain": [
       "'anhsirk'"
      ]
     },
     "execution_count": 38,
     "metadata": {},
     "output_type": "execute_result"
    }
   ],
   "source": [
    "def revers_string(s):\n",
    "    if len(s) <= 1:\n",
    "        return s\n",
    "    return s[-1] + revers_string(s[:-1])\n",
    "revers_string(\"krishna\")\n"
   ]
  },
  {
   "cell_type": "markdown",
   "id": "506fd694",
   "metadata": {},
   "source": [
    "Question 14 (Challenging – Recursion with Lists):\n",
    "\n",
    "Write a recursive function that takes a list of integers and returns the sum of all the elements.\n",
    "\n",
    "Example Input:\n",
    "[1, 2, 3, 4, 5]\n",
    "\n",
    "Expected Output:\n",
    "15"
   ]
  },
  {
   "cell_type": "code",
   "execution_count": 41,
   "id": "064b49ac",
   "metadata": {},
   "outputs": [
    {
     "name": "stdout",
     "output_type": "stream",
     "text": [
      "15\n"
     ]
    }
   ],
   "source": [
    "def recu_sum(mylist):\n",
    "    if len(mylist) == 0:\n",
    "        return 0\n",
    "    return mylist[0] + recu_sum(mylist[1:])\n",
    "print(recu_sum([1, 2, 3, 4, 5]))"
   ]
  },
  {
   "cell_type": "markdown",
   "id": "8122a539",
   "metadata": {},
   "source": [
    "Question 15 (Challenging – Custom Sorting):\n",
    "\n",
    "Write a function that takes a list of integers and returns a new list where:\n",
    "\n",
    "All even numbers come first (in ascending order)\n",
    "\n",
    "Followed by all odd numbers (also in ascending order)\n",
    "\n",
    "Example Input:\n",
    "[5, 2, 8, 7, 1, 4]\n",
    "\n",
    "Expected Output:\n",
    "[2, 4, 8, 1, 5, 7]"
   ]
  },
  {
   "cell_type": "code",
   "execution_count": 44,
   "id": "fe42c461",
   "metadata": {},
   "outputs": [
    {
     "data": {
      "text/plain": [
       "[2, 4, 6, 8, 10, 1, 3, 5, 7, 9]"
      ]
     },
     "execution_count": 44,
     "metadata": {},
     "output_type": "execute_result"
    }
   ],
   "source": [
    "def sorting_num(mylist):\n",
    "    return list(sorted([x for x in mylist if x % 2 == 0])) + list(sorted([i for i in mylist if i % 2 != 0]))\n",
    "sorting_num([1,2,3,4,5,6,7,8,9,10])"
   ]
  },
  {
   "cell_type": "code",
   "execution_count": 13,
   "id": "a91ebeb5",
   "metadata": {},
   "outputs": [
    {
     "name": "stdout",
     "output_type": "stream",
     "text": [
      "[[1, 2], [3, 4], 5]\n",
      "[[1, 2], [3, 4], 5]\n"
     ]
    }
   ],
   "source": [
    "import copy\n",
    "a = [[1, 2], [3, 4]]\n",
    "a.append(5)\n",
    "b = copy.copy(a)   \n",
    "c = copy.deepcopy(a) \n",
    "print(b)\n",
    "print(c)"
   ]
  },
  {
   "cell_type": "code",
   "execution_count": null,
   "id": "f1e67bb7",
   "metadata": {},
   "outputs": [],
   "source": []
  }
 ],
 "metadata": {
  "kernelspec": {
   "display_name": "Python 3",
   "language": "python",
   "name": "python3"
  },
  "language_info": {
   "codemirror_mode": {
    "name": "ipython",
    "version": 3
   },
   "file_extension": ".py",
   "mimetype": "text/x-python",
   "name": "python",
   "nbconvert_exporter": "python",
   "pygments_lexer": "ipython3",
   "version": "3.10.11"
  }
 },
 "nbformat": 4,
 "nbformat_minor": 5
}
