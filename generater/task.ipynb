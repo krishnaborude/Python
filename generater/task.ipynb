{
 "cells": [
  {
   "cell_type": "code",
   "execution_count": 2,
   "id": "9ea08fc9",
   "metadata": {},
   "outputs": [],
   "source": [
    "# Write a generator function to yield numbers from 1 to 10.\n",
    "def number_generator():\n",
    "    for number in range(1, 11):\n",
    "        yield number\n",
    "# Example usage:\n",
    "# for num in number_generator():\n",
    "#     print(num)\n"
   ]
  },
  {
   "cell_type": "code",
   "execution_count": 3,
   "id": "934586d9",
   "metadata": {},
   "outputs": [],
   "source": [
    "# Create a generator function that yields even numbers up to 20.\n",
    "def even_numbers():\n",
    "    for i in range(1, 21):\n",
    "        if i % 2 == 0:\n",
    "            yield i\n",
    "            "
   ]
  },
  {
   "cell_type": "code",
   "execution_count": 4,
   "id": "3ef6eee3",
   "metadata": {},
   "outputs": [],
   "source": [
    "# Write a generator that yields the squares of numbers from 1 to 5.\n",
    "def square_numbers():\n",
    "    for i in range(1, 6):\n",
    "        yield i * i"
   ]
  },
  {
   "cell_type": "code",
   "execution_count": 5,
   "id": "cf96e430",
   "metadata": {},
   "outputs": [],
   "source": [
    "# Create a generator that yields the Fibonacci series up to n terms.\n",
    "def fibonacci(n):\n",
    "    a, b = 0, 1\n",
    "    for _ in range(n):\n",
    "        yield a\n",
    "        a, b = b, a + b\n",
    "        "
   ]
  },
  {
   "cell_type": "code",
   "execution_count": 7,
   "id": "bf79aa48",
   "metadata": {},
   "outputs": [
    {
     "name": "stdout",
     "output_type": "stream",
     "text": [
      "P\n",
      "y\n",
      "t\n",
      "h\n",
      "o\n",
      "n\n"
     ]
    }
   ],
   "source": [
    "# Write a generator that yields the characters of the string \"Python\".\n",
    "def char_generator():\n",
    "    for i in 'Python':\n",
    "        yield i\n",
    "for i in char_generator():\n",
    "    print(i)"
   ]
  },
  {
   "cell_type": "code",
   "execution_count": 8,
   "id": "46d87501",
   "metadata": {},
   "outputs": [
    {
     "name": "stdout",
     "output_type": "stream",
     "text": [
      "1\n",
      "8\n",
      "27\n",
      "64\n",
      "125\n",
      "216\n",
      "343\n"
     ]
    }
   ],
   "source": [
    "# Write a generator expression to get the cubes of numbers from 1 to 7.\n",
    "def get_cubes():\n",
    "    for i in range(1,8):\n",
    "        yield(i**3)\n",
    "for cube in get_cubes():\n",
    "    print(cube)"
   ]
  },
  {
   "cell_type": "code",
   "execution_count": 9,
   "id": "85df9eae",
   "metadata": {},
   "outputs": [
    {
     "name": "stdout",
     "output_type": "stream",
     "text": [
      "5\n",
      "10\n",
      "15\n",
      "20\n",
      "25\n",
      "30\n",
      "35\n",
      "40\n",
      "45\n",
      "50\n"
     ]
    }
   ],
   "source": [
    "# Create a generator that yields numbers from 1 to 50, but only those divisible by 5.\n",
    "def gen():\n",
    "    for i in range(1,51):\n",
    "        if(i%5==0):\n",
    "            yield i\n",
    "for i in gen():\n",
    "    print(i)\n",
    "    "
   ]
  },
  {
   "cell_type": "code",
   "execution_count": 10,
   "id": "237e5a01",
   "metadata": {},
   "outputs": [
    {
     "name": "stdout",
     "output_type": "stream",
     "text": [
      "10\n",
      "9\n",
      "8\n",
      "7\n",
      "6\n",
      "5\n",
      "4\n",
      "3\n",
      "2\n",
      "1\n"
     ]
    }
   ],
   "source": [
    "# Write a generator that yields numbers in reverse order from 10 down to 1.\n",
    "def reverse_generator():\n",
    "    for i in range(10, 0, -1):\n",
    "        yield i\n",
    "for num in reverse_generator():\n",
    "    print(num)"
   ]
  },
  {
   "cell_type": "code",
   "execution_count": 11,
   "id": "1c2e6b8e",
   "metadata": {},
   "outputs": [
    {
     "name": "stdout",
     "output_type": "stream",
     "text": [
      "1\n",
      "2\n",
      "6\n",
      "24\n",
      "120\n",
      "720\n"
     ]
    }
   ],
   "source": [
    "# Create a generator that yields the factorial of numbers from 1 to n.\n",
    "def factorial(num):\n",
    "\tfact = 1\n",
    "\tfor i in range(1, num + 1):\n",
    "\t\tfact *= i\n",
    "\t\tyield fact\n",
    "n = int(input(\"Enter a number: \"))\n",
    "for i in factorial(n):\n",
    "\tprint(i)"
   ]
  },
  {
   "cell_type": "code",
   "execution_count": 13,
   "id": "d5000785",
   "metadata": {},
   "outputs": [
    {
     "name": "stdout",
     "output_type": "stream",
     "text": [
      "1\n",
      "3\n",
      "5\n",
      "7\n",
      "9\n",
      "11\n",
      "13\n",
      "15\n",
      "17\n",
      "19\n"
     ]
    }
   ],
   "source": [
    "# Write a generator that yields infinite odd numbers starting from 1 (stop after printing first 10 values).\n",
    "def infinite_odd_numbers():\n",
    "\tnum = 1\n",
    "\twhile True:\n",
    "\t\tyield num\n",
    "\t\tnum += 2\n",
    "\n",
    "# Print the first 10 odd numbers\n",
    "gen = infinite_odd_numbers()\n",
    "for _ in range(10):\n",
    "\tprint(next(gen))"
   ]
  },
  {
   "cell_type": "code",
   "execution_count": null,
   "id": "9563887f",
   "metadata": {},
   "outputs": [],
   "source": []
  }
 ],
 "metadata": {
  "kernelspec": {
   "display_name": "Python 3",
   "language": "python",
   "name": "python3"
  },
  "language_info": {
   "codemirror_mode": {
    "name": "ipython",
    "version": 3
   },
   "file_extension": ".py",
   "mimetype": "text/x-python",
   "name": "python",
   "nbconvert_exporter": "python",
   "pygments_lexer": "ipython3",
   "version": "3.10.11"
  }
 },
 "nbformat": 4,
 "nbformat_minor": 5
}
