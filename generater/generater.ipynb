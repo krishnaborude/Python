{
 "cells": [
  {
   "cell_type": "markdown",
   "id": "4c2ca25a",
   "metadata": {},
   "source": [
    "# what is generater?\n",
    "A generater is a function that produce a sequence of values lazily, one at a time, rather then storing them all in memory at once like a list.\n",
    "\n",
    "Generater use yield keyword to produce values.\n",
    "\n"
   ]
  },
  {
   "cell_type": "code",
   "execution_count": 2,
   "id": "b7a2c4ef",
   "metadata": {},
   "outputs": [
    {
     "name": "stdout",
     "output_type": "stream",
     "text": [
      "First statement\n",
      "second statement\n",
      "third statement\n"
     ]
    }
   ],
   "source": [
    "def gen_demo():\n",
    "    yield \"First statement\"\n",
    "    yield \"second statement\"\n",
    "    yield \"third statement\"\n",
    "gen = gen_demo()\n",
    "print(next(gen))\n",
    "print(next(gen))\n",
    "print(next(gen))"
   ]
  },
  {
   "cell_type": "code",
   "execution_count": 6,
   "id": "93e47ebf",
   "metadata": {},
   "outputs": [
    {
     "name": "stdout",
     "output_type": "stream",
     "text": [
      "1\n",
      "4\n",
      "9\n",
      "16\n",
      "25\n",
      "36\n",
      "49\n",
      "64\n",
      "81\n",
      "100\n"
     ]
    }
   ],
   "source": [
    "def square(num):\n",
    "    for i in range(1, num+1):\n",
    "        yield i * i\n",
    "gen = square(10)\n",
    "\n",
    "for i in gen:\n",
    "    print(i)"
   ]
  },
  {
   "cell_type": "code",
   "execution_count": 1,
   "id": "b69d1fec",
   "metadata": {},
   "outputs": [
    {
     "name": "stdout",
     "output_type": "stream",
     "text": [
      "[1, 4, 9, 16, 25, 36, 49, 64, 81, 100, 121, 144, 169, 196, 225, 256, 289, 324, 361, 400, 441, 484, 529, 576, 625, 676, 729, 784, 841, 900, 961, 1024, 1089, 1156, 1225, 1296, 1369, 1444, 1521, 1600, 1681, 1764, 1849, 1936, 2025, 2116, 2209, 2304, 2401, 2500, 2601, 2704, 2809, 2916, 3025, 3136, 3249, 3364, 3481, 3600, 3721, 3844, 3969, 4096, 4225, 4356, 4489, 4624, 4761, 4900, 5041, 5184, 5329, 5476, 5625, 5776, 5929, 6084, 6241, 6400, 6561, 6724, 6889, 7056, 7225, 7396, 7569, 7744, 7921, 8100, 8281, 8464, 8649, 8836, 9025, 9216, 9409, 9604, 9801, 10000, 10201, 10404, 10609, 10816, 11025, 11236, 11449, 11664, 11881, 12100, 12321, 12544, 12769, 12996, 13225, 13456, 13689, 13924, 14161, 14400, 14641, 14884, 15129, 15376, 15625, 15876, 16129, 16384, 16641, 16900, 17161, 17424, 17689, 17956, 18225, 18496, 18769, 19044, 19321, 19600, 19881, 20164, 20449, 20736, 21025, 21316, 21609, 21904, 22201, 22500, 22801, 23104, 23409, 23716, 24025, 24336, 24649, 24964, 25281, 25600, 25921, 26244, 26569, 26896, 27225, 27556, 27889, 28224, 28561, 28900, 29241, 29584, 29929, 30276, 30625, 30976, 31329, 31684, 32041, 32400, 32761, 33124, 33489, 33856, 34225, 34596, 34969, 35344, 35721, 36100, 36481, 36864, 37249, 37636, 38025, 38416, 38809, 39204, 39601, 40000]\n",
      "1656\n"
     ]
    }
   ],
   "source": [
    "from sys import getsizeof\n",
    "\n",
    "def creater():\n",
    "    list = []\n",
    "    i = 1\n",
    "    while i <= 200:\n",
    "        list.append(i * i)\n",
    "        i += 1\n",
    "    return list\n",
    "print(creater())\n",
    "print(getsizeof(creater()))"
   ]
  },
  {
   "cell_type": "code",
   "execution_count": 4,
   "id": "f40c0b3f",
   "metadata": {},
   "outputs": [
    {
     "name": "stdout",
     "output_type": "stream",
     "text": [
      "1\n",
      "1\n",
      "104\n"
     ]
    }
   ],
   "source": [
    "def creater1():\n",
    "    i = 1\n",
    "    while i <= 200:\n",
    "        yield i * i\n",
    "        i += 1\n",
    "print(next(creater1()))\n",
    "s = creater1()\n",
    "print(next(s))\n",
    "print(getsizeof(creater1()))"
   ]
  },
  {
   "cell_type": "code",
   "execution_count": 8,
   "id": "cdc6c56f",
   "metadata": {},
   "outputs": [
    {
     "name": "stdout",
     "output_type": "stream",
     "text": [
      "8856\n",
      "104\n",
      "<class 'generator'>\n"
     ]
    }
   ],
   "source": [
    "L = [i ** 2 for i in range(1, 1001)]\n",
    "\n",
    "gen = (i**2 for i in range(1, 1001))\n",
    "\n",
    "# for i  in gen:\n",
    "#     print(i)\n",
    "print(getsizeof(L))\n",
    "print(getsizeof(gen))\n",
    "print(type(gen))"
   ]
  },
  {
   "cell_type": "code",
   "execution_count": 13,
   "id": "34f637c1",
   "metadata": {},
   "outputs": [
    {
     "name": "stdout",
     "output_type": "stream",
     "text": [
      "1\n",
      "1\n",
      "4\n",
      "9\n",
      "25\n"
     ]
    }
   ],
   "source": [
    "def fibonacci_numbers(nums):\n",
    "    x, y = 0, 1\n",
    "    for _ in range(nums):\n",
    "        x, y = y, x+y\n",
    "        yield x\n",
    "def square(nums):\n",
    "    for num in nums:\n",
    "        yield num**2\n",
    "        \n",
    "s = square(fibonacci_numbers(5))\n",
    "\n",
    "for i in s:\n",
    "    print(i)\n",
    "# print(sum(square(fibonacci_numbers(10))))"
   ]
  },
  {
   "cell_type": "code",
   "execution_count": null,
   "id": "f9c68839",
   "metadata": {},
   "outputs": [],
   "source": []
  }
 ],
 "metadata": {
  "kernelspec": {
   "display_name": "Python 3",
   "language": "python",
   "name": "python3"
  },
  "language_info": {
   "codemirror_mode": {
    "name": "ipython",
    "version": 3
   },
   "file_extension": ".py",
   "mimetype": "text/x-python",
   "name": "python",
   "nbconvert_exporter": "python",
   "pygments_lexer": "ipython3",
   "version": "3.10.11"
  }
 },
 "nbformat": 4,
 "nbformat_minor": 5
}
