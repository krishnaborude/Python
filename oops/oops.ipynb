{
 "cells": [
  {
   "cell_type": "code",
   "execution_count": 1,
   "id": "66b9e4f3",
   "metadata": {},
   "outputs": [
    {
     "name": "stdout",
     "output_type": "stream",
     "text": [
      "Result: 5.0\n",
      "Error: Division by zero is not allowed.\n"
     ]
    }
   ],
   "source": [
    "# Write a program that divides two numbers and handles division by zero using try and except.\n",
    "\n",
    "def divide_numbers(num1, num2):\n",
    "    try:\n",
    "        result = num1 / num2\n",
    "        print(\"Result:\", result)\n",
    "    except ZeroDivisionError:\n",
    "        print(\"Error: Division by zero is not allowed.\")\n",
    "\n",
    "divide_numbers(10, 2)\n",
    "divide_numbers(10, 0)"
   ]
  },
  {
   "cell_type": "code",
   "execution_count": 3,
   "id": "4e732ad5",
   "metadata": {},
   "outputs": [
    {
     "name": "stdout",
     "output_type": "stream",
     "text": [
      "You entered: 45\n",
      "Execution completed.\n"
     ]
    }
   ],
   "source": [
    "# 2 Ask the user to input an integer. Use try-except to handle if the input is not an integer.\n",
    "\n",
    "def get_integer_input():\n",
    "    try:\n",
    "        user_input = int(input(\"Please enter an integer: \"))\n",
    "        print(\"You entered:\", user_input)\n",
    "    except ValueError:\n",
    "        print(\"Error: That is not a valid integer.\")\n",
    "    finally:\n",
    "        print(\"Execution completed.\")\n",
    "get_integer_input()\n"
   ]
  },
  {
   "cell_type": "code",
   "execution_count": 1,
   "id": "09deebb0",
   "metadata": {},
   "outputs": [
    {
     "name": "stdout",
     "output_type": "stream",
     "text": [
      "Error: File not found.\n"
     ]
    }
   ],
   "source": [
    "# 3 Open a file using open() and use try-except to catch FileNotFoundError.\n",
    "def read_file(file_path):\n",
    "    try:\n",
    "        with open(file_path, 'r') as file:\n",
    "            content = file.read()\n",
    "            print(\"File content:\")\n",
    "            print(content)\n",
    "    except FileNotFoundError:\n",
    "        print(\"Error: File not found.\")\n",
    "\n",
    "read_file(\"non_existent_file.txt\")"
   ]
  },
  {
   "cell_type": "code",
   "execution_count": 4,
   "id": "fe7ba808",
   "metadata": {},
   "outputs": [
    {
     "name": "stdout",
     "output_type": "stream",
     "text": [
      "Result: 15\n",
      "Error: Invalid input types.\n"
     ]
    }
   ],
   "source": [
    "# 4 Write a program that adds two numbers. Catch TypeError if the user inputs strings.\n",
    "def add_numbers(num1, num2):\n",
    "    try:\n",
    "        result = num1 + num2\n",
    "        print(\"Result:\", result)\n",
    "    except TypeError:\n",
    "        print(\"Error: Invalid input types.\")\n",
    "add_numbers(5, 10)\n",
    "add_numbers(\"5\", 10)"
   ]
  },
  {
   "cell_type": "code",
   "execution_count": null,
   "id": "b08849d2",
   "metadata": {},
   "outputs": [],
   "source": []
  }
 ],
 "metadata": {
  "kernelspec": {
   "display_name": "Python 3",
   "language": "python",
   "name": "python3"
  },
  "language_info": {
   "codemirror_mode": {
    "name": "ipython",
    "version": 3
   },
   "file_extension": ".py",
   "mimetype": "text/x-python",
   "name": "python",
   "nbconvert_exporter": "python",
   "pygments_lexer": "ipython3",
   "version": "3.10.11"
  }
 },
 "nbformat": 4,
 "nbformat_minor": 5
}
