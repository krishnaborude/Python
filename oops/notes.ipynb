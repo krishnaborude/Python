{
 "cells": [
  {
   "cell_type": "markdown",
   "id": "5001c65f",
   "metadata": {},
   "source": [
    "1. Class\n",
    "\n",
    "A class is a blueprint or template used to create objects.\n",
    "It defines the properties (attributes/variables) and behaviors (methods/functions) that the objects will have.\n",
    "\n",
    "Example:\n",
    "A Car class can define attributes like color and model, and methods like start() and stop()."
   ]
  },
  {
   "cell_type": "markdown",
   "id": "39111068",
   "metadata": {},
   "source": [
    "2. Object\n",
    "\n",
    "An object is an instance of a class.\n",
    "It is the actual entity that holds data and can perform actions defined in the class.\n",
    "\n",
    "Example:\n",
    "If Car is a class, then myCar = Car(\"Red\", \"Toyota\") is an object."
   ]
  },
  {
   "cell_type": "markdown",
   "id": "540d85b3",
   "metadata": {},
   "source": [
    "1. Abstraction\n",
    "\n",
    "Abstraction in Object-Oriented Programming (OOP) is the process of hiding the internal details of an object and exposing only the essential features.\n",
    "\n",
    "It allows you to focus on what an object does instead of how it does it."
   ]
  },
  {
   "cell_type": "markdown",
   "id": "2a34062a",
   "metadata": {},
   "source": [
    "2. Encapsulation\n",
    "\n",
    "Encapsulation is the process of wrapping data (variables) and methods (functions) into a single unit (class) and controlling access to them.\n",
    "It helps in data hiding (using private/protected members) and ensures that data is used safely.\n",
    "\n",
    "Example:\n",
    "Making a variable private (_balance) in a BankAccount class and accessing it only through deposit() and withdraw() methods."
   ]
  },
  {
   "cell_type": "markdown",
   "id": "67d2e0eb",
   "metadata": {},
   "source": [
    "3. Inheritance\n",
    "\n",
    "Inheritance is a mechanism that allows a class (child/derived class) to acquire the properties and methods of another class (parent/base class).\n",
    "It promotes code reusability.\n",
    "\n",
    "Example:\n",
    "A Dog class can inherit from an Animal class and automatically have its properties like eat() and sleep()."
   ]
  },
  {
   "cell_type": "markdown",
   "id": "462a2415",
   "metadata": {},
   "source": [
    "Inheritance in summary \n",
    "\n",
    "* A class can inherit from another class\n",
    "* Inheritance is a way to reuse code\n",
    "* Construtor, attributes and methods get inherited to the child class\n",
    "* The parent class is called the superclass or baseclass\n",
    "* The child class is called subclass or derived class\n",
    "* Private properties of parent are not accessible by child class\n",
    "* Child classes can override methods from their parents. This is called method overriding.\n",
    "* Super() is an inbuilt function which is used to invoke the parent class methods and constructors."
   ]
  },
  {
   "cell_type": "markdown",
   "id": "3ce7c96b",
   "metadata": {},
   "source": [
    "4. Polymorphism\n",
    "\n",
    "Polymorphism means “many forms.”\n",
    "It allows the same method or function name to perform different tasks depending on the context (the object calling it).\n",
    "\n",
    "Example:\n",
    "A method speak() in the Animal class can behave differently in Dog (barks) and Cat (meows)."
   ]
  },
  {
   "cell_type": "markdown",
   "id": "76efe2fc",
   "metadata": {},
   "source": [
    "| Pillar        | Definition                                     | Example (Real Life)          | Example (Code)      |\n",
    "| ------------- | ---------------------------------------------- | ---------------------------- | ------------------- |\n",
    "| Abstraction   | Hides complexity, shows only necessary details | Car steering                 | Payment System      |\n",
    "| Encapsulation | Hides data using methods                       | Medicine capsule             | Bank Account        |\n",
    "| Inheritance   | Child uses parent’s properties                 | Son inherits father’s traits | Dog inherits Animal |\n",
    "| Polymorphism  | Same name, different behavior                  | Person: student/employee     | Shape.area()        |"
   ]
  },
  {
   "cell_type": "code",
   "execution_count": null,
   "id": "d6b1c672",
   "metadata": {},
   "outputs": [
    {
     "name": "stdout",
     "output_type": "stream",
     "text": [
      "Bike started with kick.\n",
      "Bike stopped with brakes.\n",
      "Car started with key/button.\n",
      "Car stopped with brakes.\n"
     ]
    }
   ],
   "source": [
    "from abc import ABC, abstractmethod\n",
    "class Vehicle(ABC):\n",
    "    @abstractmethod\n",
    "    def start(self):\n",
    "        pass\n",
    "\n",
    "    @abstractmethod\n",
    "    def stop(self):\n",
    "        pass\n",
    "\n",
    "\n",
    "class Bike(Vehicle):\n",
    "    def start(self):\n",
    "        print(\"Bike started with kick.\")\n",
    "\n",
    "    def stop(self):\n",
    "        print(\"Bike stopped with brakes.\")\n",
    "\n",
    "\n",
    "class Car(Vehicle):\n",
    "    def start(self):\n",
    "        print(\"Car started with key/button.\")\n",
    "\n",
    "    def stop(self):\n",
    "        print(\"Car stopped with brakes.\")\n",
    "\n",
    "bike = Bike()\n",
    "car = Car()\n",
    "bike.start()\n",
    "bike.stop()\n",
    "car.start()\n",
    "car.stop()"
   ]
  },
  {
   "cell_type": "code",
   "execution_count": 2,
   "id": "24ca3f11",
   "metadata": {},
   "outputs": [
    {
     "name": "stdout",
     "output_type": "stream",
     "text": [
      "Invalid shape!\n"
     ]
    }
   ],
   "source": [
    "# Q2. Shape Abstraction\n",
    "import math\n",
    "class Shape(ABC):\n",
    "    @abstractmethod\n",
    "    def area(self):\n",
    "        pass\n",
    "\n",
    "\n",
    "class Rectangle(Shape):\n",
    "    def __init__(self, length, width):\n",
    "        self.length = length\n",
    "        self.width = width\n",
    "\n",
    "    def area(self):\n",
    "        return self.length * self.width\n",
    "\n",
    "\n",
    "class Circle(Shape):\n",
    "    def __init__(self, radius):\n",
    "        self.radius = radius\n",
    "\n",
    "    def area(self):\n",
    "        return math.pi * self.radius * self.radius\n",
    "\n",
    "\n",
    "shape_type = input(\"Enter shape (rectangle/circle): \").lower()\n",
    "\n",
    "if shape_type == \"rectangle\":\n",
    "    l = float(input(\"Enter length: \"))\n",
    "    w = float(input(\"Enter width: \"))\n",
    "    rect = Rectangle(l, w)\n",
    "    print(f\"Area of Rectangle: {rect.area()}\")\n",
    "\n",
    "elif shape_type == \"circle\":\n",
    "    r = float(input(\"Enter radius: \"))\n",
    "    cir = Circle(r)\n",
    "    print(f\"Area of Circle: {cir.area()}\")\n",
    "\n",
    "else:\n",
    "    print(\"Invalid shape!\")"
   ]
  },
  {
   "cell_type": "code",
   "execution_count": 3,
   "id": "e315a54c",
   "metadata": {},
   "outputs": [
    {
     "name": "stdout",
     "output_type": "stream",
     "text": [
      "2197223584096\n",
      "2197223584096\n"
     ]
    }
   ],
   "source": [
    "class Person:\n",
    "    def __init__(self, name, gender):\n",
    "        self.name = name\n",
    "        self.gender = gender\n",
    "\n",
    "def greet(person):\n",
    "    person.name=\"ankit\"\n",
    "    return person\n",
    "\n",
    "p = Person(\"John\", \"male\")\n",
    "print(id(p))\n",
    "p1 = greet(p)\n",
    "print(id(p1))"
   ]
  },
  {
   "cell_type": "code",
   "execution_count": null,
   "id": "5c55a7a8",
   "metadata": {},
   "outputs": [
    {
     "name": "stdout",
     "output_type": "stream",
     "text": [
      "Employee logged in using thumb impression.\n",
      "Employee working in office.\n",
      "Employee having lunch in canteen.\n",
      "Student logged in using ID card.\n",
      "Student attending classes.\n",
      "Student having lunch in canteen.\n"
     ]
    }
   ],
   "source": [
    "from abc import ABC, abstractmethod\n",
    "class User(ABC):\n",
    "    @abstractmethod\n",
    "    def login(self):\n",
    "        pass\n",
    "    def work_room(self):\n",
    "        pass\n",
    "    def canteen(self):\n",
    "        print(\"User having lunch in canteen.\")\n",
    "\n",
    "class Employee(User):\n",
    "    print(User.canteen())\n",
    "    def login(self):\n",
    "        print(\"Employee logged in using thumb impression.\")\n",
    "    def work_room(self):\n",
    "        print(\"Employee working in office.\")\n",
    "\n",
    "class Student(User):\n",
    "    print(User.canteen())\n",
    "    def login(self):\n",
    "        print(\"Student logged in using ID card.\")\n",
    "    def work_room(self):\n",
    "        print(\"Student attending classes.\")\n",
    "\n",
    "\n",
    "\n",
    "emp=Employee()\n",
    "emp.login()\n",
    "emp.work_room()\n",
    "emp.canteen()\n",
    "\n",
    "stud=Student()\n",
    "stud.login()\n",
    "stud.work_room()\n",
    "stud.canteen()"
   ]
  },
  {
   "cell_type": "code",
   "execution_count": null,
   "id": "aad27219",
   "metadata": {},
   "outputs": [
    {
     "name": "stdout",
     "output_type": "stream",
     "text": [
      "Insufficient funds\n"
     ]
    },
    {
     "data": {
      "text/plain": [
       "'update balance: 1500'"
      ]
     },
     "execution_count": 13,
     "metadata": {},
     "output_type": "execute_result"
    }
   ],
   "source": [
    "class BackAccount:\n",
    "    def __init__(self, balance=0):\n",
    "        self.__balance = balance\n",
    "\n",
    "    def get_balance(self):\n",
    "        return f\"update balance: {self.__balance}\"\n",
    "\n",
    "    def withdraw(self, amount):\n",
    "        if amount > self.__balance:\n",
    "            print(\"Insufficient funds\")\n",
    "        else:\n",
    "            self.__balance -= amount\n",
    "    def deposit(self, amount):\n",
    "        if amount > 0:\n",
    "            self.__balance += amount\n",
    "        else:\n",
    "            print(\"Invalid deposit amount\")\n",
    "    \n",
    "\n",
    "account = BackAccount(1000)\n",
    "account.deposit(500)\n",
    "account.withdraw(2000)\n",
    "account.get_balance()"
   ]
  },
  {
   "cell_type": "code",
   "execution_count": 8,
   "id": "64d3cfdf",
   "metadata": {},
   "outputs": [
    {
     "name": "stdout",
     "output_type": "stream",
     "text": [
      "7\n"
     ]
    }
   ],
   "source": [
    "def strAdd(n):\n",
    "    if n < 10 :\n",
    "        return n\n",
    "    return strAdd(sum(int(i) for i in str(n)))\n",
    "print(strAdd(5290))"
   ]
  },
  {
   "cell_type": "code",
   "execution_count": null,
   "id": "4b94bca1",
   "metadata": {},
   "outputs": [
    {
     "name": "stdout",
     "output_type": "stream",
     "text": [
      "[0, 1, 1, 2, 3, 5, 8, 13, 21, 34, 55]\n"
     ]
    }
   ],
   "source": [
    "def fibonacci(a=10):\n",
    "\n",
    "    if a > 10:\n",
    "        return []\n",
    "    \n",
    "    elif a == 0:\n",
    "        return [0]\n",
    "    \n",
    "    elif a == 1:\n",
    "        return [0, 1]\n",
    "    \n",
    "    else:\n",
    "        seq = fibonacci(a - 1)\n",
    "        seq.append(seq[-1] + seq[-2])\n",
    "        return seq\n",
    "    \n",
    "print(fibonacci())"
   ]
  },
  {
   "cell_type": "code",
   "execution_count": 2,
   "id": "86c3b871",
   "metadata": {},
   "outputs": [
    {
     "name": "stdout",
     "output_type": "stream",
     "text": [
      "anhsirk\n"
     ]
    }
   ],
   "source": [
    "def reverse(s):\n",
    "    return s if len(s)==0 else reverse(s[1:]) + s[0]\n",
    "\n",
    "print(reverse(\"krishna\"))  # anhsirk\n"
   ]
  },
  {
   "cell_type": "code",
   "execution_count": null,
   "id": "63feaf28",
   "metadata": {},
   "outputs": [],
   "source": []
  }
 ],
 "metadata": {
  "kernelspec": {
   "display_name": "Python 3",
   "language": "python",
   "name": "python3"
  },
  "language_info": {
   "codemirror_mode": {
    "name": "ipython",
    "version": 3
   },
   "file_extension": ".py",
   "mimetype": "text/x-python",
   "name": "python",
   "nbconvert_exporter": "python",
   "pygments_lexer": "ipython3",
   "version": "3.10.11"
  }
 },
 "nbformat": 4,
 "nbformat_minor": 5
}
