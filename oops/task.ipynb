{
 "cells": [
  {
   "cell_type": "code",
   "execution_count": null,
   "id": "08439952",
   "metadata": {},
   "outputs": [],
   "source": [
    "class Car:\n",
    "    def __init__(self, brand, speed):\n",
    "        self.brand=brand\n",
    "        self.__speed=speed\n",
    "\n",
    "    def show_info(self):\n",
    "        print(f\"{self.brand} speed is {self.__speed} km/h\")\n",
    "\n",
    "car1 = Car(\"BMW\", 120)\n",
    "car1.show_info()"
   ]
  },
  {
   "cell_type": "code",
   "execution_count": null,
   "id": "85b5cf63",
   "metadata": {},
   "outputs": [],
   "source": [
    "class Employee:\n",
    "    def __init__(self, name, salary):\n",
    "        self.name=name\n",
    "        self.__salary=salary\n",
    "\n",
    "    def show_salary(self):\n",
    "        print(f\"{self.name}'s salary is {self.__salary}\")\n",
    "\n",
    "emp = Employee(\"Krish\", 50000)\n",
    "emp.show_salary()"
   ]
  },
  {
   "cell_type": "code",
   "execution_count": null,
   "id": "65738191",
   "metadata": {},
   "outputs": [],
   "source": [
    "class ATM:\n",
    "    def __init__(self, pin):\n",
    "        self.__pin = pin\n",
    "\n",
    "    def verify_pin(self, entered_pin):\n",
    "        if self.__pin == entered_pin:\n",
    "            print(\"Correct PIN\")\n",
    "        else:\n",
    "            print(\"Wrong PIN\")\n",
    "\n",
    "atm = ATM(1234)\n",
    "atm.verify_pin(1234)\n",
    "atm.verify_pin(1111) "
   ]
  },
  {
   "cell_type": "code",
   "execution_count": null,
   "id": "2c687912",
   "metadata": {},
   "outputs": [],
   "source": [
    "class Student:\n",
    "    def __init__(self, name):\n",
    "        self.name=name\n",
    "        self.__marks=0 \n",
    "\n",
    "    def set_marks(self, marks):\n",
    "        if 0 <= marks <= 100:\n",
    "            self.__marks=marks\n",
    "        else:\n",
    "            print(\"Invalid marks\")\n",
    "\n",
    "    def get_marks(self):\n",
    "        return self.__marks\n",
    "\n",
    "s = Student(\"Riya\")\n",
    "s.set_marks(85)\n",
    "print(s.get_marks())"
   ]
  },
  {
   "cell_type": "code",
   "execution_count": null,
   "id": "99573be6",
   "metadata": {},
   "outputs": [],
   "source": [
    "class CollegeStudent:\n",
    "    def __init__(self, name, roll):\n",
    "        self._name=name\n",
    "        self.__roll=roll\n",
    "\n",
    "    def show_data(self):\n",
    "        print(f\"Name: {self._name}, Roll: {self.__roll}\")\n",
    "\n",
    "st = CollegeStudent(\"Anita\", 101)\n",
    "st.show_data()\n",
    "print(st._name) "
   ]
  },
  {
   "cell_type": "code",
   "execution_count": null,
   "id": "1b63d451",
   "metadata": {},
   "outputs": [],
   "source": [
    "class Password:\n",
    "    def __init__(self, pwd):\n",
    "        self.__pwd = pwd\n",
    "\n",
    "    def is_strong(self):\n",
    "        return (\n",
    "            len(self.__pwd) >= 8\n",
    "            and any(c.isupper() for c in self.__pwd)\n",
    "            and any(c.isdigit() for c in self.__pwd)\n",
    "        )\n",
    "\n",
    "p1 = Password(\"Hello123\")\n",
    "print(\"Strong password?\", p1.is_strong())"
   ]
  },
  {
   "cell_type": "code",
   "execution_count": null,
   "id": "2a0525e0",
   "metadata": {},
   "outputs": [],
   "source": [
    "class Student:\n",
    "    def __init__(self, name, roll, marks):\n",
    "        self.__name = name \n",
    "        self.__roll = roll \n",
    "        self.__marks = marks\n",
    "\n",
    "    def get_name(self):\n",
    "        return self.__name\n",
    "\n",
    "    def get_roll(self):\n",
    "        return self.__roll\n",
    "\n",
    "    def get_total(self):\n",
    "        return sum(self.__marks.values())\n",
    "\n",
    "    def get_percentage(self):\n",
    "        return self.get_total() / len(self.__marks)\n",
    "\n",
    "    def get_grade(self):\n",
    "        per = self.get_percentage()\n",
    "        if per >= 90:\n",
    "            return \"A\"\n",
    "        elif per >= 75:\n",
    "            return \"B\"\n",
    "        elif per >= 50:\n",
    "            return \"C\"\n",
    "        else:\n",
    "            return \"F\"\n",
    "\n",
    "    def show_result(self):\n",
    "        print(f\"\\nStudent: {self.__name} (Roll: {self.__roll})\")\n",
    "        print(\"Marks:\", self.__marks)\n",
    "        print(\"Total:\", self.get_total())\n",
    "        print(\"Percentage:\", round(self.get_percentage(), 2), \"%\")\n",
    "        print(\"Grade:\", self.get_grade())\n",
    "\n",
    "\n",
    "marks1 = {\"Math\": 88, \"Science\": 92, \"English\": 76, \"History\": 81}\n",
    "s1 = Student(\"Krish\", 101, marks1)\n",
    "\n",
    "marks2 = {\"Math\": 55, \"Science\": 60, \"English\": 45, \"History\": 58}\n",
    "s2 = Student(\"Anita\", 102, marks2)\n",
    "\n",
    "s1.show_result()\n",
    "s2.show_result()\n"
   ]
  },
  {
   "cell_type": "code",
   "execution_count": null,
   "id": "bc83626c",
   "metadata": {},
   "outputs": [],
   "source": [
    "class User:\n",
    "    def __init__(self):\n",
    "        self.name=\"krishna\"\n",
    "        self.gender=\"male\"\n",
    "    def login(self):\n",
    "        print(\"User logged in\")\n",
    "\n",
    "class Student(User):\n",
    "    def __init__(self):\n",
    "        self.rollno = 100\n",
    "    def enroll(self):\n",
    "        print(\"Student is enrolled\")\n",
    "u=User()\n",
    "s= Student()\n",
    "u.login()\n",
    "# u.enroll()\n",
    "print(s.name)"
   ]
  },
  {
   "cell_type": "code",
   "execution_count": null,
   "id": "858ce122",
   "metadata": {},
   "outputs": [],
   "source": [
    "class Phone:\n",
    "    def __init__(self, price, brand, camera):\n",
    "        print(\"Phone created\")\n",
    "        self.price = price\n",
    "        self.brand = brand\n",
    "        self.camera = camera\n",
    "    def buy (self):\n",
    "        print(\"Buying phone...\")\n",
    "class Smartphone(Phone):\n",
    "    pass\n",
    "\n",
    "s = Smartphone(20000, \"Samsung\", \"12MP\")\n",
    "print(s.price, s.brand, s.camera)\n",
    "s.buy()"
   ]
  },
  {
   "cell_type": "code",
   "execution_count": null,
   "id": "e8390734",
   "metadata": {},
   "outputs": [],
   "source": [
    "class Phone:\n",
    "    def __init__(self, price, brand, camera):\n",
    "        print(\"Phone created\")\n",
    "        self.__price = price\n",
    "        self.brand = brand\n",
    "        self.camera = camera\n",
    "class Smartphone(Phone):\n",
    "    def __init__(self,os, ram):\n",
    "        self.os = os\n",
    "        self.ram = ram\n",
    "\n",
    "s = Smartphone(\"Android\", \"4GB\")\n",
    "# s = Smartphone(10000, \"Samsung\", \"12MP\")\n",
    "print(s.os, s.ram)\n",
    "# print(s.brand)"
   ]
  },
  {
   "cell_type": "code",
   "execution_count": null,
   "id": "25b1b30b",
   "metadata": {},
   "outputs": [],
   "source": [
    "class Phone:\n",
    "    def __init__(self, price, brand, camera):\n",
    "        print(\"Phone created\")\n",
    "        self.__price = price\n",
    "        self.brand = brand\n",
    "        self.camera = camera\n",
    "    def show(self):\n",
    "        return (self.__price)\n",
    "class Smartphone(Phone):\n",
    "    def check(self):\n",
    "        print(self.show())\n",
    "s=Smartphone(10000, \"Samsung\", \"12MP\")\n",
    "# s.show()\n",
    "s.check()"
   ]
  },
  {
   "cell_type": "code",
   "execution_count": null,
   "id": "e36c4cd1",
   "metadata": {},
   "outputs": [],
   "source": [
    "class Parent:\n",
    "    def __init__(self,num):\n",
    "        self.__num=num\n",
    "    def get_num(self):\n",
    "        return self.__num\n",
    "class Child(Parent):\n",
    "    def show(self):\n",
    "        print(\"this is in child class\")\n",
    "    \n",
    "son = Child(10)\n",
    "print(son.get_num())\n",
    "son.show()"
   ]
  },
  {
   "cell_type": "code",
   "execution_count": 28,
   "id": "3911f5ec",
   "metadata": {},
   "outputs": [
    {
     "name": "stdout",
     "output_type": "stream",
     "text": [
      "10\n",
      "20\n"
     ]
    }
   ],
   "source": [
    "class Parent:\n",
    "    def __init__(self,num):\n",
    "        self.__num=num\n",
    "    def get_num(self):\n",
    "        return self.__num\n",
    "    \n",
    "class Child(Parent):\n",
    "\n",
    "    def __init__(self,val, num):\n",
    "        self.__val = val\n",
    "        super().__init__(num)\n",
    "    def get_val(self):\n",
    "        return self.__val\n",
    "\n",
    "son = Child(20, 10)\n",
    "print(son.get_num())\n",
    "print(son.get_val())\n"
   ]
  },
  {
   "cell_type": "code",
   "execution_count": null,
   "id": "28cce27c",
   "metadata": {},
   "outputs": [
    {
     "data": {
      "text/plain": [
       "'class A: 200'"
      ]
     },
     "execution_count": 37,
     "metadata": {},
     "output_type": "execute_result"
    }
   ],
   "source": [
    "class A:\n",
    "    def __init__(self):\n",
    "        self.var1= 100\n",
    "    def display1(self, var1):\n",
    "        self.var1 = var1\n",
    "        return f\"class A: {self.var1}\"\n",
    "class B(A): \n",
    "    def display2(self):\n",
    "        return f\"class B: {self.var1}\"\n",
    "obj = B()\n",
    "obj.display1(200)"
   ]
  },
  {
   "cell_type": "code",
   "execution_count": null,
   "id": "ca603757",
   "metadata": {},
   "outputs": [
    {
     "name": "stdout",
     "output_type": "stream",
     "text": [
      "Buying Smartphone...\n"
     ]
    }
   ],
   "source": [
    "class Phone:\n",
    "    def __init__(self, brand, model):\n",
    "        self.brand = brand\n",
    "        self.model = model\n",
    "\n",
    "    def buy (self):\n",
    "        print(\"Buying Phone...\")\n",
    "\n",
    "\n",
    "class Smartphone(Phone):\n",
    "    def buy(self):\n",
    "        print(\"Buying Smartphone...\")\n",
    "\n",
    "    \n",
    "s = Smartphone(\"OnePlus\", \"9 Pro\")\n",
    "\n",
    "s.buy()"
   ]
  },
  {
   "cell_type": "code",
   "execution_count": 39,
   "id": "2bc98391",
   "metadata": {},
   "outputs": [
    {
     "name": "stdout",
     "output_type": "stream",
     "text": [
      "Buying Smartphone...\n",
      "Buying Phone...\n"
     ]
    }
   ],
   "source": [
    "class Phone:\n",
    "    def __init__(self, brand, model):\n",
    "        self.brand = brand\n",
    "        self.model = model\n",
    "\n",
    "    def buy (self):\n",
    "        print(\"Buying Phone...\")\n",
    "\n",
    "\n",
    "class Smartphone(Phone):\n",
    "    def buy(self):\n",
    "        print(\"Buying Smartphone...\")\n",
    "        super().buy()\n",
    "    \n",
    "s = Smartphone(\"OnePlus\", \"9 Pro\")\n",
    "\n",
    "s.buy()"
   ]
  },
  {
   "cell_type": "code",
   "execution_count": 41,
   "id": "8b1ec425",
   "metadata": {},
   "outputs": [
    {
     "name": "stdout",
     "output_type": "stream",
     "text": [
      "Inside Phone constructor\n",
      "Inside Smartphone constructor\n"
     ]
    }
   ],
   "source": [
    "class Phone:\n",
    "    def __init__(self, brand, model):\n",
    "        print(\"Inside Phone constructor\")\n",
    "        self.brand = brand\n",
    "        self.model = model\n",
    "\n",
    "class Smartphone(Phone):\n",
    "    def __init__(self, brand, model, os):\n",
    "        super().__init__(brand, model)\n",
    "        self.os = os\n",
    "        print(\"Inside Smartphone constructor\")\n",
    "s = Smartphone(\"OnePlus\", \"9 Pro\", \"Android\")"
   ]
  },
  {
   "cell_type": "code",
   "execution_count": 43,
   "id": "64397556",
   "metadata": {},
   "outputs": [
    {
     "name": "stdout",
     "output_type": "stream",
     "text": [
      "Inside Phone constructor\n",
      "Buying Smartphone...\n"
     ]
    },
    {
     "ename": "AttributeError",
     "evalue": "'super' object has no attribute 'brand'",
     "output_type": "error",
     "traceback": [
      "\u001b[1;31m---------------------------------------------------------------------------\u001b[0m",
      "\u001b[1;31mAttributeError\u001b[0m                            Traceback (most recent call last)",
      "Cell \u001b[1;32mIn[43], line 12\u001b[0m\n\u001b[0;32m     10\u001b[0m         \u001b[38;5;28mprint\u001b[39m(\u001b[38;5;28msuper\u001b[39m()\u001b[38;5;241m.\u001b[39mbrand)\n\u001b[0;32m     11\u001b[0m s \u001b[38;5;241m=\u001b[39m Smartphone(\u001b[38;5;124m\"\u001b[39m\u001b[38;5;124mOnePlus\u001b[39m\u001b[38;5;124m\"\u001b[39m, \u001b[38;5;124m\"\u001b[39m\u001b[38;5;124m9 Pro\u001b[39m\u001b[38;5;124m\"\u001b[39m)\n\u001b[1;32m---> 12\u001b[0m \u001b[43ms\u001b[49m\u001b[38;5;241;43m.\u001b[39;49m\u001b[43mbuy\u001b[49m\u001b[43m(\u001b[49m\u001b[43m)\u001b[49m\n",
      "Cell \u001b[1;32mIn[43], line 10\u001b[0m, in \u001b[0;36mSmartphone.buy\u001b[1;34m(self)\u001b[0m\n\u001b[0;32m      8\u001b[0m \u001b[38;5;28;01mdef\u001b[39;00m\u001b[38;5;250m \u001b[39m\u001b[38;5;21mbuy\u001b[39m(\u001b[38;5;28mself\u001b[39m):\n\u001b[0;32m      9\u001b[0m     \u001b[38;5;28mprint\u001b[39m(\u001b[38;5;124m\"\u001b[39m\u001b[38;5;124mBuying Smartphone...\u001b[39m\u001b[38;5;124m\"\u001b[39m)\n\u001b[1;32m---> 10\u001b[0m     \u001b[38;5;28mprint\u001b[39m(\u001b[38;5;28;43msuper\u001b[39;49m\u001b[43m(\u001b[49m\u001b[43m)\u001b[49m\u001b[38;5;241;43m.\u001b[39;49m\u001b[43mbrand\u001b[49m)\n",
      "\u001b[1;31mAttributeError\u001b[0m: 'super' object has no attribute 'brand'"
     ]
    }
   ],
   "source": [
    "class Phone:\n",
    "    def __init__(self, brand, model):\n",
    "        print(\"Inside Phone constructor\")\n",
    "        self.brand = brand\n",
    "        self.model = model\n",
    "\n",
    "class Smartphone(Phone):\n",
    "    def buy(self):\n",
    "        print(\"Buying Smartphone...\")\n",
    "        print(super().brand)\n",
    "s = Smartphone(\"OnePlus\", \"9 Pro\")\n",
    "s.buy()"
   ]
  },
  {
   "cell_type": "code",
   "execution_count": null,
   "id": "83f69727",
   "metadata": {},
   "outputs": [],
   "source": []
  }
 ],
 "metadata": {
  "kernelspec": {
   "display_name": "Python 3",
   "language": "python",
   "name": "python3"
  },
  "language_info": {
   "codemirror_mode": {
    "name": "ipython",
    "version": 3
   },
   "file_extension": ".py",
   "mimetype": "text/x-python",
   "name": "python",
   "nbconvert_exporter": "python",
   "pygments_lexer": "ipython3",
   "version": "3.10.11"
  }
 },
 "nbformat": 4,
 "nbformat_minor": 5
}
