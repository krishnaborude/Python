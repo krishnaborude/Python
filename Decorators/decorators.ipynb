{
 "cells": [
  {
   "cell_type": "markdown",
   "id": "96ad89a9",
   "metadata": {},
   "source": [
    "Decoratrors:\n",
    "A decorator in python is a function that receives another function as an input and adds some functionality to it.\n",
    "It returns the modified function.\n",
    "\n",
    "This can hapoen only because of first class citizens property.\n",
    "\n",
    "There are 2 types of decorators:\n",
    "\n",
    "1. Built in Decorators like @staticmethod, @classmethod, @abstractmethod, @property etc..\n",
    "2. User defined decorators that we programmers create to add extra functionalities.\n"
   ]
  },
  {
   "cell_type": "markdown",
   "id": "dc77fb7d",
   "metadata": {},
   "source": []
  },
  {
   "cell_type": "code",
   "execution_count": null,
   "id": "6c3be130",
   "metadata": {},
   "outputs": [
    {
     "name": "stdout",
     "output_type": "stream",
     "text": [
      "Something is happening before the function is called.\n",
      "Hello!\n",
      "Something is happening after the function is called.\n"
     ]
    }
   ],
   "source": [
    "def my_decorator(func):\n",
    "    def wrapper():\n",
    "        print(\"***************************************\")\n",
    "        func()\n",
    "        print(\"***************************************\")\n",
    "    return wrapper\n",
    "def say_hello():\n",
    "    print(\"Hello!\")\n",
    "say_hello1 = my_decorator(say_hello)\n",
    "print(say_hello1)"
   ]
  },
  {
   "cell_type": "code",
   "execution_count": 1,
   "id": "8dfb9b85",
   "metadata": {},
   "outputs": [
    {
     "name": "stdout",
     "output_type": "stream",
     "text": [
      "say hello function executed!\n",
      "time taken: hello : 2.009089231491089 seconds\n",
      "None\n",
      "2 + 2 = 4\n",
      "time taken: adition : 2.0067174434661865 seconds\n",
      "None\n"
     ]
    }
   ],
   "source": [
    "import time\n",
    "def timer_decorator(func):\n",
    "    def wrapper(*args):\n",
    "        start= time.time()\n",
    "        func(*args)\n",
    "        print(\"time taken:\",func.__name__,\":\",time.time()-start, \"seconds\")\n",
    "    return wrapper\n",
    "\n",
    "@timer_decorator\n",
    "def hello():\n",
    "    print(\"say hello function executed!\")\n",
    "    time.sleep(2)\n",
    "\n",
    "@timer_decorator\n",
    "def adition(n):\n",
    "    time.sleep(2)\n",
    "    print(f\"2 + {n} = {n+2}\")\n",
    "    \n",
    "print(hello())\n",
    "print(adition(2))"
   ]
  },
  {
   "cell_type": "markdown",
   "id": "7d4db7f9",
   "metadata": {},
   "source": [
    "*args and **kwargs\n",
    "\n",
    "*args : A variable-length argument list that allows a function to accept any number of positional arguments. It is denoted by an asterisk (*) followed by the parameter name.\n",
    "\n",
    "these argument are passed as tuples\n",
    "\n",
    "**kwargs: A variable-length keyword argument list that allows a function to accept any number of named (keyword) arguments. It is denoted by two asterisks (**).\n",
    "\n",
    "these argument are passed as dictionaries"
   ]
  },
  {
   "cell_type": "code",
   "execution_count": 2,
   "id": "077f872c",
   "metadata": {},
   "outputs": [
    {
     "name": "stdout",
     "output_type": "stream",
     "text": [
      "<class 'tuple'>\n",
      "first argument: 1\n",
      "second argument: 2\n",
      "third argument: 3\n"
     ]
    }
   ],
   "source": [
    "def example(*args):\n",
    "    print(type(args))\n",
    "    if len(args) >= 2:\n",
    "        print(\"first argument:\", args[0])\n",
    "        print(\"second argument:\", args[1])\n",
    "        print(\"third argument:\", args[2])\n",
    "    else:\n",
    "        print(\"Not enough arguments provided.\")\n",
    "example(1, 2, 3, 4, 5)"
   ]
  },
  {
   "cell_type": "code",
   "execution_count": 3,
   "id": "e7992a4e",
   "metadata": {},
   "outputs": [
    {
     "name": "stdout",
     "output_type": "stream",
     "text": [
      "<class 'dict'>\n",
      "name: John\n",
      "age: 25\n"
     ]
    }
   ],
   "source": [
    "def example_kwargs(**kwargs):\n",
    "    print(type(kwargs))\n",
    "    if 'name' in kwargs:\n",
    "        print(\"name:\", kwargs['name'])\n",
    "    if 'age' in kwargs:\n",
    "        print(\"age:\", kwargs['age'])\n",
    "example_kwargs(name=\"John\", age=25)"
   ]
  },
  {
   "cell_type": "code",
   "execution_count": 6,
   "id": "52322292",
   "metadata": {},
   "outputs": [
    {
     "name": "stdout",
     "output_type": "stream",
     "text": [
      "name: Alice\n",
      "age: 30\n",
      "city: New York\n"
     ]
    }
   ],
   "source": [
    "def example_kwargs(**kwargs):\n",
    "    for key, value in kwargs.items():\n",
    "        print(f\"{key}: {value}\")\n",
    "\n",
    "dict_data = {'name': 'Alice', 'age': 30, 'city': 'New York'}\n",
    "example_kwargs(**dict_data)"
   ]
  },
  {
   "cell_type": "code",
   "execution_count": 7,
   "id": "c45a5d1a",
   "metadata": {},
   "outputs": [
    {
     "name": "stdout",
     "output_type": "stream",
     "text": [
      "normal argument: 1\n",
      "args: (2, 3)\n",
      "kwargs: {'name': 'Bob', 'age': 28}\n"
     ]
    }
   ],
   "source": [
    "def example_all(normal, *args, **kwargs):\n",
    "    print(\"normal argument:\", normal)\n",
    "    print(\"args:\", args)\n",
    "    print(\"kwargs:\", kwargs)\n",
    "example_all(1, 2, 3, name=\"Bob\", age=28)"
   ]
  },
  {
   "cell_type": "code",
   "execution_count": null,
   "id": "d89d5c66",
   "metadata": {},
   "outputs": [],
   "source": []
  }
 ],
 "metadata": {
  "kernelspec": {
   "display_name": "Python 3",
   "language": "python",
   "name": "python3"
  },
  "language_info": {
   "codemirror_mode": {
    "name": "ipython",
    "version": 3
   },
   "file_extension": ".py",
   "mimetype": "text/x-python",
   "name": "python",
   "nbconvert_exporter": "python",
   "pygments_lexer": "ipython3",
   "version": "3.10.11"
  }
 },
 "nbformat": 4,
 "nbformat_minor": 5
}
